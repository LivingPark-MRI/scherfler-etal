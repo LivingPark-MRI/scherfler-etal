{
 "cells": [
  {
   "cell_type": "markdown",
   "metadata": {},
   "source": [
    "# Replication: Scherfler *et al*, 2011\n",
    "## Introduction\n",
    "\n",
    "This notebook attempts to replicate the following paper with the [PPMI](http://ppmi-info.org) dataset:\n",
    "\n",
    "<div class=\"alert alert-block alert-success\">\n",
    "Scherfler, Christoph, et al. <a href=https://onlinelibrary.wiley.com/doi/pdf/10.1002/ana.22245>White and gray matter abnormalities in idiopathic rapid eye movement sleep behavior disorder: a diffusion‐tensor imaging and voxel‐based morphometry study.</a> Annals of neurology 69.2 (2011): 400-407.\n",
    "</div>"
   ]
  },
  {
   "cell_type": "markdown",
   "metadata": {
    "slideshow": {
     "slide_type": "fragment"
    }
   },
   "source": [
    "This study recruited 34 patients with iRBD and confirmed iRBD diagnosis with polysomnography. Patients had no PD or dementia at time of MRI. The demographics parameters were as follows (table extracted from the paper):\n",
    "\n",
    "<img src=\"images/demographics.png\"/>"
   ]
  },
  {
   "cell_type": "markdown",
   "metadata": {},
   "source": [
    "The main results of the paper regarding structural MRI is that Voxel-Based Morphometry (VBM) reveals an increase of gray matter density in both hippocampi of iRBD patients, as illustrated in the following table extracted from the paper (diffusion MRI results are truncated):\n",
    "\n",
    "<img src=\"images/results.png\" width=800/>"
   ]
  },
  {
   "cell_type": "markdown",
   "metadata": {},
   "source": [
    "The remainder of this notebook is an attempt to replicate this result using the PPMI dataset."
   ]
  },
  {
   "cell_type": "markdown",
   "metadata": {},
   "source": [
    "## Initial setup"
   ]
  },
  {
   "cell_type": "markdown",
   "metadata": {},
   "source": [
    "LivingPark notebooks use a *cache* directory to store analysis inputs and outputs. Inputs typically include PPMI Study Data and imaging data whereas outputs include processed images and other derivatives. Cache directories allow LivingPark notebooks to run in a few minutes as they reuse previously computed results. However, cache directories cannot be made public due to the PPMI Data Usage Agreement (DUA). Instead, they are stored on `login.bic.mni.mcgill.ca`, which requires a specific user name and password as well as a properly-configured DataLad installation in your account (see instructions [here](https://docs.google.com/document/d/1K7RzQjYC1O6tpSqe_c0CvxvJq38J10zNrDIdw20Yh_0/edit?usp=sharing)). In case you don't have access to the cache directory of this notebook, the next sections will download all the required imaging data from PPMI and recompute the results, which will take a few hours depending on your computer configuration. In the future, we will aim at storing this cache dataset on PPMI servers so that they can be accessed with a PPMI account.\n",
    "\n",
    "Let's initialize the notebook cache and dependencies:"
   ]
  },
  {
   "cell_type": "code",
   "execution_count": 1,
   "metadata": {},
   "outputs": [
    {
     "name": "stdout",
     "output_type": "stream",
     "text": [
      "removing link inputs\n",
      "removing link outputs\n",
      "Installing notebook dependencies (see log in install.log)... \n",
      "This notebook was run on 2022-07-25 20:47:57 UTC +0000\n"
     ]
    }
   ],
   "source": [
    "import livingpark_utils\n",
    "\n",
    "utils = livingpark_utils.LivingParkUtils()\n",
    "utils.notebook_init()\n",
    "# random_seed = 1 # to be tested\n",
    "random_seed = 2  # no significant cluster\n",
    "# random_seed = 3 # no significant cluster\n",
    "# random_seed = 4 # no significant cluster"
   ]
  },
  {
   "cell_type": "markdown",
   "metadata": {},
   "source": [
    "## PPMI cohort preparation\n",
    "\n",
    "We will build a PPMI cohort that matches the one used in the original study (Table 1) as much as possible. As in other LivingPark replications, we will use the same sample size as the original study. Our cohort will be built directly from PPMI Study Data files so that it can be replicated and updated whenever necessary."
   ]
  },
  {
   "cell_type": "markdown",
   "metadata": {
    "slideshow": {
     "slide_type": "slide"
    }
   },
   "source": [
    "### Study data download"
   ]
  },
  {
   "cell_type": "markdown",
   "metadata": {
    "slideshow": {
     "slide_type": "fragment"
    }
   },
   "source": [
    "We will start by downloading the PPMI Study Data files required to build our cohort: \n",
    "* Age at visit (this could also be retrieved from imaging data)\n",
    "* Demographics (to retrieve sex)\n",
    "* REM Sleep Behavior Disorder Questionnaire\n",
    "\n",
    "We will use the LivingPark utils library to download these files from the notebook. If files are already present in the notebook cache, they won't be downloaded again. Otherwise, you will need to enter your PPMI username and password. In case you don't have a PPMI account, you can request one [here](http://ppmi-info.org)."
   ]
  },
  {
   "cell_type": "code",
   "execution_count": 2,
   "metadata": {
    "slideshow": {
     "slide_type": "fragment"
    }
   },
   "outputs": [
    {
     "name": "stdout",
     "output_type": "stream",
     "text": [
      "Download skipped: No missing files!\n"
     ]
    }
   ],
   "source": [
    "required_files = [\n",
    "    \"Demographics.csv\",\n",
    "    \"REM_Sleep_Behavior_Disorder_Questionnaire.csv\",\n",
    "    \"Primary_Clinical_Diagnosis.csv\",\n",
    "    \"Cognitive_Categorization.csv\",\n",
    "    \"Medical_Conditions_Log.csv\",\n",
    "    \"Concomitant_Medication_Log.csv\",\n",
    "]\n",
    "\n",
    "utils.download_ppmi_metadata(required_files)"
   ]
  },
  {
   "cell_type": "markdown",
   "metadata": {},
   "source": [
    "We will also need file `MRI_info.csv` produced by another LivingPark notebook available at https://github.com/LivingPark-MRI/ppmi-MRI-metadata. This file contains a list of T1-weighted MRIs usable for VBM. "
   ]
  },
  {
   "cell_type": "code",
   "execution_count": 3,
   "metadata": {},
   "outputs": [
    {
     "name": "stdout",
     "output_type": "stream",
     "text": [
      "File /home/glatard/code/livingpark/scherfler-etal/inputs/study_files/MRI_info.csv is now available\n"
     ]
    }
   ],
   "source": [
    "# TODO: move this to livingpark_utils\n",
    "import os.path as op\n",
    "\n",
    "file_path = op.join(utils.study_files_dir, \"MRI_info.csv\")\n",
    "if not op.exists(file_path):\n",
    "    !(cd {utils.study_files_dir} && python -m wget \"https://raw.githubusercontent.com/LivingPark-MRI/ppmi-MRI-metadata/main/MRI metadata.ipynb\")  # use requests to improve portability\n",
    "    npath = op.join(utils.study_files_dir, \"MRI metadata.ipynb\")\n",
    "    %run \"{npath}\"\n",
    "print(f\"File {file_path} is now available\")"
   ]
  },
  {
   "cell_type": "markdown",
   "metadata": {
    "slideshow": {
     "slide_type": "slide"
    },
    "tags": []
   },
   "source": [
    "### RBD Score computation\n",
    "\n",
    "The original study used polysomnography to diagnose REM Sleep Behavior Disorder, which is not available in PPMI.\n",
    "Instead, we will use the REM Sleep Behavior Disorder Screening Questionnaire (RSBDSQ) [[1]](https://movementdisorders.onlinelibrary.wiley.com/doi/10.1002/mds.21740) to discriminate RBD patients from controls. This questionnaire consists of 13 yes/no questions that are summed to produce an RBD score. We computed the RBD score by summing the answers to each of the 13 questions. The answers to questions Q1 to Q9 (12 questions as Q6 is sub-divided in 4 parts) are directly availble in the RSBDSQ Study Data file. We computed the answer to Q10 (\"I have/had a disease of the nervous system (e.g., stroke, head trauma, parkinsonism, RLS, narcolepsy, depression, epilepsy, inflammatory disease of the brain), which?\") by taking the max of the 8 corresponding disease variables in the RSBDSQ Study Data file. We also computed the answer to Q6 as the sum of Q6.1 to Q6.4 as it will use as inclusion criterion for controls."
   ]
  },
  {
   "cell_type": "markdown",
   "metadata": {},
   "source": [
    "We obtain the following distribution of RBD scores in the PPMI dataset:"
   ]
  },
  {
   "cell_type": "code",
   "execution_count": 4,
   "metadata": {
    "slideshow": {
     "slide_type": "slide"
    }
   },
   "outputs": [
    {
     "data": {
      "image/png": "[encoded data removed]",
      "text/plain": [
       "<Figure size 432x288 with 1 Axes>"
      ]
     },
     "metadata": {
      "needs_background": "light"
     },
     "output_type": "display_data"
    }
   ],
   "source": [
    "import pandas as pd\n",
    "\n",
    "# Load PPMI RSBDQ data\n",
    "rbdsq = pd.read_csv(\n",
    "    op.join(utils.study_files_dir, \"REM_Sleep_Behavior_Disorder_Questionnaire.csv\")\n",
    ")\n",
    "\n",
    "# Compute RBDSQ score\n",
    "rbdsq[\"RBDSQ\"] = (\n",
    "    rbdsq[\"DRMVIVID\"]  # Q1\n",
    "    + rbdsq[\"DRMAGRAC\"]  # Q2\n",
    "    + rbdsq[\"DRMNOCTB\"]  # Q3\n",
    "    + rbdsq[\"SLPLMBMV\"]  # Q4\n",
    "    + rbdsq[\"SLPINJUR\"]  # Q5\n",
    "    + rbdsq[\"DRMVERBL\"]  # Q6.1\n",
    "    + rbdsq[\"DRMFIGHT\"]  # Q6.2\n",
    "    + rbdsq[\"DRMUMV\"]  # Q6.3\n",
    "    + rbdsq[\"DRMOBJFL\"]  # Q6.4\n",
    "    + rbdsq[\"MVAWAKEN\"]  # Q7\n",
    "    + rbdsq[\"DRMREMEM\"]  # Q8\n",
    "    + rbdsq[\"SLPDSTRB\"]  # Q9\n",
    "    + rbdsq[  # Q10\n",
    "        [\n",
    "            \"BRNINFM\",\n",
    "            \"DEPRS\",\n",
    "            \"EPILEPSY\",\n",
    "            \"HETRA\",\n",
    "            \"NARCLPSY\",\n",
    "            \"PARKISM\",\n",
    "            \"RLS\",\n",
    "            \"STROKE\",\n",
    "        ]\n",
    "    ].max(axis=1)\n",
    ")\n",
    "\n",
    "rbdsq[\"Q6\"] = (\n",
    "    rbdsq[\"DRMVERBL\"] + rbdsq[\"DRMFIGHT\"] + rbdsq[\"DRMUMV\"] + rbdsq[\"DRMOBJFL\"]\n",
    ")\n",
    "\n",
    "# Note: CNSOTHCM isn't present in data\n",
    "\n",
    "# Check that max RBDSQ score is <= 13\n",
    "assert rbdsq[\"RBDSQ\"].max() <= 13\n",
    "\n",
    "rbdsq.groupby(\"RBDSQ\").count()[\"REC_ID\"].plot.bar()\n",
    "\n",
    "from matplotlib import pyplot as plt\n",
    "\n",
    "plt.ylabel(\"Number of records\")\n",
    "plt.show()"
   ]
  },
  {
   "cell_type": "markdown",
   "metadata": {
    "tags": []
   },
   "source": [
    "### Inclusion criteria\n",
    "\n",
    "Consistently with the original study, we only include subjects with no Parkinsonism. For these subjects, we include all the visits that have a T1-weighted MRI usable for VBM (see [MRI metadata notebook](https://github.com/LivingPark-MRI/ppmi-MRI-metadata)).  We include subjects in the RBD group when their RBD score is >= 5. We include subjects in the control group when their RBD score is < 5 and their score to Q6 of the RSBDSQ is 0 [**TODO** ref needed, see email thread between Madeleine and Ron Postuma]. In case multiple visits of a given subject are included in the RBD of Control group, we randomly select one of them for inclusion in the group and exclude the other ones. This selection ensures that a given subject is included at most once in the RBD group and at most once in the control group. In Section \"Cohort matching\", we will ensure that a given subjet is included in at most one group. \n",
    "\n",
    "We obtain the following group sizes:\n",
    "\n",
    "<!-- and a cutoff score of 6 to identify RBD subjects among PD subjects, consistently with the results presented in [[2]](https://www.sciencedirect.com# /science/article/pii/S138994571100164X). -->"
   ]
  },
  {
   "cell_type": "code",
   "execution_count": 5,
   "metadata": {
    "slideshow": {
     "slide_type": "fragment"
    }
   },
   "outputs": [
    {
     "name": "stdout",
     "output_type": "stream",
     "text": [
      "Number of RBD subjects: 32\n",
      "Number of control subjects: 91\n"
     ]
    }
   ],
   "source": [
    "# MRI info\n",
    "mri = pd.read_csv(op.join(utils.study_files_dir, \"MRI_info.csv\"))[\n",
    "    [\"Subject ID\", \"Visit code\", \"Description\", \"Age\"]\n",
    "]\n",
    "mri.rename(columns={\"Subject ID\": \"PATNO\", \"Visit code\": \"EVENT_ID\"}, inplace=True)\n",
    "# Demographcis\n",
    "dem = pd.read_csv(op.join(\"data\", \"Demographics.csv\"))[[\"PATNO\", \"SEX\"]]\n",
    "# Diagnosis\n",
    "diag = pd.read_csv(op.join(utils.study_files_dir, \"Primary_Clinical_Diagnosis.csv\"))[\n",
    "    [\"PATNO\", \"EVENT_ID\", \"PRIMDIAG\", \"OTHNEURO\"]\n",
    "]\n",
    "# Cognitive Categorization\n",
    "cog_cat = pd.read_csv(op.join(utils.study_files_dir, \"Cognitive_Categorization.csv\"))[\n",
    "    [\"PATNO\", \"EVENT_ID\", \"COGSTATE\"]\n",
    "]\n",
    "# Medical condition\n",
    "med_cond = pd.read_csv(op.join(utils.study_files_dir, \"Medical_Conditions_Log.csv\"))[\n",
    "    [\"PATNO\", \"EVENT_ID\", \"MHCAT\"]\n",
    "]\n",
    "# Medication\n",
    "meds = pd.read_csv(op.join(utils.study_files_dir, \"Concomitant_Medication_Log.csv\"))[\n",
    "    [\"PATNO\", \"EVENT_ID\", \"SEQNO\", \"CMTRT\"]\n",
    "]\n",
    "\n",
    "# Merge data to get included subject,visit pairs\n",
    "subjects = (\n",
    "    rbdsq.merge(dem, on=\"PATNO\", how=\"inner\")  # Sex is available\n",
    "    .merge(\n",
    "        diag[diag[\"PRIMDIAG\"] == 17], on=[\"PATNO\", \"EVENT_ID\"], how=\"inner\"\n",
    "    )  # Healthy subject\n",
    "    .merge(\n",
    "        cog_cat[cog_cat[\"COGSTATE\"] != 3], how=\"inner\", on=[\"PATNO\", \"EVENT_ID\"]\n",
    "    )  # No dementia\n",
    "    .merge(mri, on=[\"PATNO\", \"EVENT_ID\"], how=\"inner\")  # MRI is available\n",
    "    .merge(med_cond, on=[\"PATNO\", \"EVENT_ID\"], how=\"left\")\n",
    "    .merge(meds, on=[\"PATNO\", \"EVENT_ID\"], how=\"left\")[\n",
    "        [\n",
    "            \"PATNO\",\n",
    "            \"EVENT_ID\",\n",
    "            \"RBDSQ\",\n",
    "            \"Q6\",\n",
    "            \"SEX\",\n",
    "            \"Age\",\n",
    "            \"Description\",\n",
    "            \"PRIMDIAG\",\n",
    "            \"MHCAT\",\n",
    "            \"SEQNO\",\n",
    "            \"CMTRT\",\n",
    "        ]\n",
    "    ]\n",
    ")\n",
    "\n",
    "# no evidence of a neurological or psychiatric illness in the clinical assessment and MRI scanning.\n",
    "# No evidence of central nervous system (CNS) comorbidities revealed by clinical neurological examination\n",
    "subjects = subjects[~subjects[\"MHCAT\"].isin([\"1P\", \"1Q\"])]\n",
    "\n",
    "# Extract RBD subjects and controls according to inclusion criteria\n",
    "# Sample one entry (event and T1 description) per subject in each group so that a subject happens at most once in a group (between-group consistency will be ensured in cohort matching)\n",
    "# Sort entries by PATNO to improve reproducibility of this notebook\n",
    "rbds = (\n",
    "    subjects[subjects[\"RBDSQ\"] >= 5]\n",
    "    .groupby(\"PATNO\")\n",
    "    .sample(1, random_state=random_seed)\n",
    "    .sort_values(by=\"PATNO\")\n",
    ")\n",
    "controls = (\n",
    "    subjects[(subjects[\"RBDSQ\"] < 5) & (subjects[\"Q6\"] == 0)]\n",
    "    .groupby(\"PATNO\")\n",
    "    .sample(1, random_state=random_seed)\n",
    "    .sort_values(by=\"PATNO\")\n",
    ")\n",
    "\n",
    "print(f\"Number of RBD subjects: {len(rbds)}\")\n",
    "print(f\"Number of control subjects: {len(controls)}\")"
   ]
  },
  {
   "cell_type": "markdown",
   "metadata": {
    "slideshow": {
     "slide_type": "slide"
    }
   },
   "source": [
    "### Cohort matching"
   ]
  },
  {
   "cell_type": "markdown",
   "metadata": {
    "slideshow": {
     "slide_type": "fragment"
    }
   },
   "source": [
    "The RBD and Control groups built previously give us a lot of flexibility to build a cohort that matches the one in the original study, due to their large sample size compared to the original cohort. We adopted the following approach to construct a matching cohort:\n",
    "1. Randomly select 4 control women and 10 control men, to reproduce the F/M balance in the original study\n",
    "2. Find 26 subjects from the RBD group that best match age and sex in the selected control group. We matched sex by direct sampling of males and females using the same proportion as in the original study. We matched age using a nearest-neighbor approach.\n",
    "\n",
    "We obtain the following cohort:"
   ]
  },
  {
   "cell_type": "code",
   "execution_count": 6,
   "metadata": {
    "slideshow": {
     "slide_type": "fragment"
    }
   },
   "outputs": [],
   "source": [
    "def nn_match(sample1, df_2, n2, cat_variables, num_variables, random_state=random_seed):\n",
    "    \"\"\"\n",
    "    Find len(sample1) rows in df_2 such that variables are matched with sample1.\n",
    "\n",
    "    sample1: samples in group1\n",
    "    df_2: dataframe with subjects in group 2\n",
    "    n2: desired sample size for group 2\n",
    "    cat_variables: categorical variables to match\n",
    "    num_variables: numerical variables to match\n",
    "    \"\"\"\n",
    "\n",
    "    def nn(x, df, variables):\n",
    "        \"\"\"\n",
    "        Find index of nearest neighbor of x in df\n",
    "\n",
    "        * x: a dataframe row\n",
    "        * df: a dataframe\n",
    "        * variables: variables to match. Should be normalized.\n",
    "        \"\"\"\n",
    "        df[\"dist\"] = sum((df[var] - x[var]) ** 2 for var in variables)\n",
    "        df.sort_values(\"dist\", inplace=True)\n",
    "        return df.head(1).index[\n",
    "            0\n",
    "        ]  ## there's probably a better way to do it but it works\n",
    "\n",
    "    # Check assumptions\n",
    "    n1 = len(sample1)\n",
    "    assert n1 <= n2\n",
    "    for v in num_variables + cat_variables:\n",
    "        assert v in sample1 and v in df_2\n",
    "\n",
    "    # Copy original dataframe to leave it untouched\n",
    "    df_2_ = df_2.copy()\n",
    "    sample1_ = sample1.copy()\n",
    "\n",
    "    # Remove from df_2 all subjects that are in sample1\n",
    "    df_2_ = df_2_[~df_2_[\"PATNO\"].isin(sample1[\"PATNO\"])]\n",
    "\n",
    "    # Normalize variables to match to compute meaningful distances\n",
    "    for v in num_variables:\n",
    "        m = df_2_[v].mean()\n",
    "        s = df_2_[v].std()\n",
    "        for df in (df_2_, sample1_):\n",
    "            df[v] = (df[v] - m) / s\n",
    "\n",
    "    # For each subject in sampled group 1,\n",
    "    # find one or more subject in sampled group 2, without replacement.\n",
    "    indices = []\n",
    "    for i in range(n2):\n",
    "        j = i % n1  # loop over sample1\n",
    "        df_2_cat = df_2_.copy()\n",
    "        for c in cat_variables:\n",
    "            if len(df_2_cat[df_2_cat[c] == sample1_.iloc[j][c]]) > 0:\n",
    "                df_2_cat = df_2_cat[df_2_cat[c] == sample1_.iloc[j][c]]\n",
    "            else:\n",
    "                print(\n",
    "                    f\"Warning: cannot find subject with {c}=={sample1_.iloc[j][c]} in sample 2. Removing constraint.\"\n",
    "                )\n",
    "        index = nn(sample1_.iloc[j], df_2_cat, num_variables)\n",
    "        df_2_.drop(index=index, inplace=True)\n",
    "        indices.append(index)\n",
    "\n",
    "    sample2 = df_2[df_2.index.isin(indices)]\n",
    "\n",
    "    return sample2"
   ]
  },
  {
   "cell_type": "code",
   "execution_count": 7,
   "metadata": {
    "slideshow": {
     "slide_type": "slide"
    }
   },
   "outputs": [],
   "source": [
    "# Randomly select 4 control women and 10 control men, to reproduce F/M balance in original paper\n",
    "controls = pd.concat(\n",
    "    [\n",
    "        controls[controls[\"SEX\"] == 0].sample(\n",
    "            n=5, random_state=random_seed\n",
    "        ),  # 4/10 doesn't work for RBDs\n",
    "        controls[controls[\"SEX\"] == 1].sample(n=9, random_state=random_seed),\n",
    "    ]\n",
    ")\n",
    "\n",
    "# Match with RBD subjects\n",
    "rbds = nn_match(controls, rbds, 26, [\"SEX\"], [\"Age\"], random_state=random_seed)"
   ]
  },
  {
   "cell_type": "code",
   "execution_count": 8,
   "metadata": {
    "slideshow": {
     "slide_type": "fragment"
    }
   },
   "outputs": [
    {
     "data": {
      "text/html": [
       "<div>\n",
       "<style scoped>\n",
       "    .dataframe tbody tr th:only-of-type {\n",
       "        vertical-align: middle;\n",
       "    }\n",
       "\n",
       "    .dataframe tbody tr th {\n",
       "        vertical-align: top;\n",
       "    }\n",
       "\n",
       "    .dataframe thead th {\n",
       "        text-align: right;\n",
       "    }\n",
       "</style>\n",
       "<table border=\"1\" class=\"dataframe\">\n",
       "  <thead>\n",
       "    <tr style=\"text-align: right;\">\n",
       "      <th></th>\n",
       "      <th>iRBD Patients</th>\n",
       "      <th>Controls</th>\n",
       "    </tr>\n",
       "  </thead>\n",
       "  <tbody>\n",
       "    <tr>\n",
       "      <th>Subjects, No.</th>\n",
       "      <td>26</td>\n",
       "      <td>14</td>\n",
       "    </tr>\n",
       "    <tr>\n",
       "      <th>F/M, No.</th>\n",
       "      <td>10/16</td>\n",
       "      <td>5/9</td>\n",
       "    </tr>\n",
       "    <tr>\n",
       "      <th>Age, mean +/- SD</th>\n",
       "      <td>62.9 +/- 7.2</td>\n",
       "      <td>62.5 +/- 8.6</td>\n",
       "    </tr>\n",
       "  </tbody>\n",
       "</table>\n",
       "</div>"
      ],
      "text/plain": [
       "                 iRBD Patients      Controls\n",
       "Subjects, No.               26            14\n",
       "F/M, No.                 10/16           5/9\n",
       "Age, mean +/- SD  62.9 +/- 7.2  62.5 +/- 8.6"
      ]
     },
     "execution_count": 8,
     "metadata": {},
     "output_type": "execute_result"
    }
   ],
   "source": [
    "import os\n",
    "\n",
    "cohort_stats = pd.DataFrame(columns=[\"iRBD Patients\", \"Controls\"])\n",
    "\n",
    "cohort_stats.loc[\"Subjects, No.\"] = [len(rbds), len(controls)]\n",
    "cohort_stats.loc[\"F/M, No.\"] = [\n",
    "    f\"{len(rbds[rbds['SEX']==0])}/{len(rbds[rbds['SEX']==1])}\",\n",
    "    f\"{len(controls[controls['SEX']==0])}/{len(controls[controls['SEX']==1])}\",\n",
    "]\n",
    "cohort_stats.loc[\"Age, mean +/- SD\"] = [\n",
    "    f\"{round(rbds['Age'].mean(),1)} +/- {round(rbds['Age'].std(),1)}\",\n",
    "    f\"{round(controls['Age'].mean(),1)} +/- {round(controls['Age'].std(),1)}\",\n",
    "]\n",
    "\n",
    "cohort_stats"
   ]
  },
  {
   "cell_type": "markdown",
   "metadata": {
    "slideshow": {
     "slide_type": "fragment"
    }
   },
   "source": [
    "The demographics parameters of the selected PPMI subjects seem comparable to the ones in the initial study. "
   ]
  },
  {
   "cell_type": "markdown",
   "metadata": {},
   "source": [
    "Let's do basic sanity checks in this cohort:\n",
    "* A subject appears at most once in each group\n",
    "* A subject does not appear in more than one group"
   ]
  },
  {
   "cell_type": "code",
   "execution_count": 9,
   "metadata": {},
   "outputs": [
    {
     "name": "stdout",
     "output_type": "stream",
     "text": [
      "All sanity checks passed.\n"
     ]
    }
   ],
   "source": [
    "assert len(pd.unique(rbds[\"PATNO\"])) == len(\n",
    "    rbds\n",
    "), \"Some subjects are present more than once in RBD group\"\n",
    "assert len(pd.unique(controls[\"PATNO\"])) == len(\n",
    "    controls\n",
    "), \"Some subjects are present more than once in controls\"\n",
    "assert (\n",
    "    len(set(controls[\"PATNO\"]) & set(rbds[\"PATNO\"])) == 0\n",
    "), f'Some subjects are present in controls and rbd group {set(controls[\"PATNO\"]) & set(rbds[\"PATNO\"])}'\n",
    "print(\"All sanity checks passed.\")"
   ]
  },
  {
   "cell_type": "code",
   "execution_count": 10,
   "metadata": {},
   "outputs": [],
   "source": [
    "# Concatenate both groups in cohort DataFrame\n",
    "rbds[\"group\"] = \"RBD\"\n",
    "controls[\"group\"] = \"Control\"\n",
    "cohort = pd.concat([rbds, controls])"
   ]
  },
  {
   "cell_type": "markdown",
   "metadata": {},
   "source": [
    "Finally, we generate a cohort id that uniquely identifies the cohort built previously. We will use this id to avoid recomputing the same results multiple times:"
   ]
  },
  {
   "cell_type": "code",
   "execution_count": 11,
   "metadata": {},
   "outputs": [
    {
     "name": "stdout",
     "output_type": "stream",
     "text": [
      "Cohort id: _528899833549086226\n"
     ]
    }
   ],
   "source": [
    "cohort_id = utils.cohort_id(cohort)\n",
    "print(f\"Cohort id: {cohort_id}\")"
   ]
  },
  {
   "cell_type": "code",
   "execution_count": 12,
   "metadata": {
    "tags": []
   },
   "outputs": [
    {
     "name": "stdout",
     "output_type": "stream",
     "text": [
      "Cohort patient ids saved in scherfler-etal-patnos-_528899833549086226.csv. Do not share this file publicly!\n"
     ]
    }
   ],
   "source": [
    "# Save patient ids\n",
    "filename = f\"scherfler-etal-patnos-{cohort_id}.csv\"\n",
    "cohort[\"PATNO\"].to_csv(filename, index=False)\n",
    "print(f\"Cohort patient ids saved in {filename}. Do not share this file publicly!\")"
   ]
  },
  {
   "cell_type": "markdown",
   "metadata": {},
   "source": [
    "The following concommittant medication have been found in the cohort. Make sure that they don't violate the following exclusion criteria from the original paper:\n",
    "\n",
    "*No current treatment with medications known to modify REM sleep architecture and muscle tone such as serotonin reuptake inhibitors.*"
   ]
  },
  {
   "cell_type": "code",
   "execution_count": 13,
   "metadata": {},
   "outputs": [
    {
     "data": {
      "text/html": [
       "<div>\n",
       "<style scoped>\n",
       "    .dataframe tbody tr th:only-of-type {\n",
       "        vertical-align: middle;\n",
       "    }\n",
       "\n",
       "    .dataframe tbody tr th {\n",
       "        vertical-align: top;\n",
       "    }\n",
       "\n",
       "    .dataframe thead th {\n",
       "        text-align: right;\n",
       "    }\n",
       "</style>\n",
       "<table border=\"1\" class=\"dataframe\">\n",
       "  <thead>\n",
       "    <tr style=\"text-align: right;\">\n",
       "      <th></th>\n",
       "      <th>PATNO</th>\n",
       "    </tr>\n",
       "    <tr>\n",
       "      <th>CMTRT</th>\n",
       "      <th></th>\n",
       "    </tr>\n",
       "  </thead>\n",
       "  <tbody>\n",
       "    <tr>\n",
       "      <th>LEVOSTATIN</th>\n",
       "      <td>1</td>\n",
       "    </tr>\n",
       "    <tr>\n",
       "      <th>bupropion</th>\n",
       "      <td>1</td>\n",
       "    </tr>\n",
       "    <tr>\n",
       "      <th>cetirizine</th>\n",
       "      <td>1</td>\n",
       "    </tr>\n",
       "  </tbody>\n",
       "</table>\n",
       "</div>"
      ],
      "text/plain": [
       "            PATNO\n",
       "CMTRT            \n",
       "LEVOSTATIN      1\n",
       "bupropion       1\n",
       "cetirizine      1"
      ]
     },
     "execution_count": 13,
     "metadata": {},
     "output_type": "execute_result"
    }
   ],
   "source": [
    "cohort.groupby(\"CMTRT\").count()[[\"PATNO\"]]"
   ]
  },
  {
   "cell_type": "markdown",
   "metadata": {},
   "source": [
    "## Image analysis\n",
    "\n",
    "Structural MRI analysis in the original paper is a straightforward VBM analysis implemented with SPM using the DARTEL toolbox. To replicate it, we mostly followed the excellent tutorial on VBM in SPM available at https://www.fil.ion.ucl.ac.uk/~john/misc/VBMclass15.pdf"
   ]
  },
  {
   "cell_type": "markdown",
   "metadata": {},
   "source": [
    "### Imaging data download"
   ]
  },
  {
   "cell_type": "markdown",
   "metadata": {},
   "source": [
    "Let's first download the missing Nifti image files associated with the subjects and visits selected in our cohort:"
   ]
  },
  {
   "cell_type": "code",
   "execution_count": 14,
   "metadata": {},
   "outputs": [
    {
     "name": "stdout",
     "output_type": "stream",
     "text": [
      "Number of available subjects: 40\n",
      "Number of missing subjects: 0\n",
      "Downloading image data of 0 subjects\n"
     ]
    }
   ],
   "source": [
    "utils.download_missing_nifti_files(cohort, link_in_outputs=True)"
   ]
  },
  {
   "cell_type": "markdown",
   "metadata": {},
   "source": [
    "### Image processing"
   ]
  },
  {
   "cell_type": "markdown",
   "metadata": {},
   "source": [
    "Image processing consists of:\n",
    "1. Data pre-processing: segmentation, DARTEL template generation, normalization to MNI space\n",
    "2. Intra-cranial volume computation (to be used as covariates in the statistical model)\n",
    "3. Statistical model\n",
    "\n",
    "We implemented each of these steps as an SPM batch. For each batch, we created a template where file names will be inserted. Batch templates are available in `code/templates`."
   ]
  },
  {
   "cell_type": "markdown",
   "metadata": {},
   "source": [
    "#### Pre-processing"
   ]
  },
  {
   "cell_type": "markdown",
   "metadata": {},
   "source": [
    "We used the default parameters in SPM Segment, DARTEL, and Normalize to MNI Space modules, except for the Gaussian smoothing kernel size (FWHM) in the Normalise module that we set to 4 mm $\\times$ 4 mm $\\times$ 4 mm consistently with the original study. Our pre-processing batch template is in `code/templates/pre_processing_job.m`.\n",
    "\n",
    "We will now add our cohort subjects to the pre-processing batch template:"
   ]
  },
  {
   "cell_type": "code",
   "execution_count": 15,
   "metadata": {
    "tags": []
   },
   "outputs": [
    {
     "name": "stdout",
     "output_type": "stream",
     "text": [
      "Job batch file written in pre_processing__528899833549086226_job.m\n",
      "Batch file written in pre_processing__528899833549086226_batch.m\n"
     ]
    }
   ],
   "source": [
    "# Preprocessing batch\n",
    "preprocessing_job_template = op.join(\"code\", \"templates\", \"pre_processing_job.m\")\n",
    "preprocessing_job_name = op.abspath(\n",
    "    op.join(\"code\", \"batches\", f\"pre_processing_{cohort_id}_job.m\")\n",
    ")\n",
    "\n",
    "image_files = sorted(\n",
    "    [\n",
    "        op.abspath(\n",
    "            utils.find_nifti_file_in_cache(\n",
    "                row[\"PATNO\"],\n",
    "                row[\"EVENT_ID\"],\n",
    "                row[\"Description\"],\n",
    "                base_dir=op.join(\"outputs\", \"pre_processing\"),\n",
    "            )\n",
    "        )\n",
    "        for index, row in cohort.iterrows()\n",
    "    ]\n",
    ")\n",
    "image_files_quote = [f\"'{x},1'\" for x in image_files]\n",
    "utils.write_spm_batch_files(\n",
    "    preprocessing_job_template,\n",
    "    {\"[IMAGES]\": os.linesep.join(image_files_quote)},\n",
    "    preprocessing_job_name,\n",
    ")"
   ]
  },
  {
   "cell_type": "markdown",
   "metadata": {},
   "source": [
    "We can now run the pre-processing batch. To ensure that it will run on this computer, we containerized it with Docker and wrapped it in a Boutiques descriptor. If it's the first time that you run this notebook, the Docker container will be downloaded to your computer:"
   ]
  },
  {
   "cell_type": "code",
   "execution_count": 16,
   "metadata": {},
   "outputs": [
    {
     "name": "stdout",
     "output_type": "stream",
     "text": [
      "Log file pre_processing__528899833549086226.log exists, skipping batch execution (remove file or use force=True to force execution)\n"
     ]
    }
   ],
   "source": [
    "output = utils.run_spm_batch_file(preprocessing_job_name)"
   ]
  },
  {
   "cell_type": "markdown",
   "metadata": {},
   "source": [
    "#### Intra-cranial volume computation\n",
    "\n",
    "We compute intra-cranial volumes by (1) computing tissue volumes using the corresponding tool in SPM, (2) summing the grey-matter, white-matter, and CSF volumes. \n",
    "\n",
    "First, let's run the tissue volumes batch:"
   ]
  },
  {
   "cell_type": "code",
   "execution_count": 17,
   "metadata": {},
   "outputs": [
    {
     "name": "stdout",
     "output_type": "stream",
     "text": [
      "Job batch file written in tissue_volumes__528899833549086226_job.m\n",
      "Batch file written in tissue_volumes__528899833549086226_batch.m\n",
      "Log file tissue_volumes__528899833549086226.log exists, skipping batch execution (remove file or use force=True to force execution)\n"
     ]
    }
   ],
   "source": [
    "# Tissue volumes batch\n",
    "tissue_volumes_job_template = op.join(\"code\", \"templates\", \"tissue_volumes_job.m\")\n",
    "volumes_job_name = preprocessing_job_name.replace(\"pre_processing\", \"tissue_volumes\")\n",
    "\n",
    "segmentation_files = sorted(\n",
    "    [x.replace(\".nii\", \"_seg8.mat\").replace(\",1\", \"\") for x in image_files]\n",
    ")\n",
    "volumes_file = op.abspath(\n",
    "    op.join(\"outputs\", op.basename(volumes_job_name.replace(\".m\", \".txt\")))\n",
    ")  # output file containing brain volumes\n",
    "utils.write_spm_batch_files(\n",
    "    tissue_volumes_job_template,\n",
    "    {\n",
    "        \"[SEGMENTATION_FILES]\": os.linesep.join([f\"'{x}'\" for x in segmentation_files]),\n",
    "        \"[VOLUMES_FILE]\": volumes_file,\n",
    "    },\n",
    "    volumes_job_name,\n",
    ")\n",
    "output = utils.run_spm_batch_file(volumes_job_name)"
   ]
  },
  {
   "cell_type": "markdown",
   "metadata": {},
   "source": [
    "We obtain the following distribution of intra-cranial volumes:"
   ]
  },
  {
   "cell_type": "code",
   "execution_count": 18,
   "metadata": {},
   "outputs": [
    {
     "data": {
      "image/png": "[encoded data removed]",
      "text/plain": [
       "<Figure size 432x288 with 1 Axes>"
      ]
     },
     "metadata": {
      "needs_background": "light"
     },
     "output_type": "display_data"
    }
   ],
   "source": [
    "# Read tissue volumes file\n",
    "\n",
    "import csv\n",
    "\n",
    "icvs = {}  # intra-cranial volumes per segmentation file\n",
    "\n",
    "\n",
    "def subject_id(segmentation_filename):\n",
    "    \"\"\"\n",
    "    Return subject id from segmentation file name\n",
    "    \"\"\"\n",
    "\n",
    "    sub_id = segmentation_filename.split(op.sep)[-4].replace(\"sub-\", \"\")\n",
    "    assert int(sub_id)\n",
    "    return sub_id\n",
    "\n",
    "\n",
    "with open(volumes_file) as csvfile:\n",
    "    reader = csv.DictReader(csvfile, quotechar=\"'\")\n",
    "    for row in reader:\n",
    "        assert len(row) == 4, f\"Malformed row: {row}\"\n",
    "        icvs[subject_id(row[\"File\"])] = (\n",
    "            float(row[\"Volume1\"]) + float(row[\"Volume2\"]) + float(row[\"Volume3\"])\n",
    "        )\n",
    "\n",
    "plt.hist([icvs[x] for x in icvs])\n",
    "plt.xlabel(\"ICV (litres)\")\n",
    "plt.ylabel(\"Number of samples\")\n",
    "plt.show()"
   ]
  },
  {
   "cell_type": "markdown",
   "metadata": {
    "tags": []
   },
   "source": [
    "### Quality Control\n",
    "\n",
    "The following animation displays the white and grey matter probabilities as estimated by SPM. We can check their correct alignment with the MNI template, as well as their anatomical plausability."
   ]
  },
  {
   "cell_type": "code",
   "execution_count": 19,
   "metadata": {},
   "outputs": [
    {
     "name": "stdout",
     "output_type": "stream",
     "text": [
      "Folder qc__528899833549086226 already exists, skipping image export  (remove folder or use --force to force).\n",
      "Wrote qc__528899833549086226/animation.gif\n"
     ]
    },
    {
     "data": {
      "text/html": [
       "<img src=\"qc__528899833549086226/animation.gif\"/>"
      ],
      "text/plain": [
       "<IPython.core.display.Image object>"
      ]
     },
     "execution_count": 19,
     "metadata": {},
     "output_type": "execute_result"
    }
   ],
   "source": [
    "utils.qc_spm_segmentations(cohort)"
   ]
  },
  {
   "cell_type": "markdown",
   "metadata": {},
   "source": [
    "### Statistical analysis"
   ]
  },
  {
   "cell_type": "markdown",
   "metadata": {},
   "source": [
    "**TODO** [ADD description here, include FWE threshold, contrasts]"
   ]
  },
  {
   "cell_type": "markdown",
   "metadata": {},
   "source": [
    "#### Grey matter"
   ]
  },
  {
   "cell_type": "code",
   "execution_count": 20,
   "metadata": {},
   "outputs": [
    {
     "name": "stdout",
     "output_type": "stream",
     "text": [
      "Job batch file written in stats_grey_matter__528899833549086226_job.m\n",
      "Batch file written in stats_grey_matter__528899833549086226_batch.m\n"
     ]
    }
   ],
   "source": [
    "import glob\n",
    "\n",
    "# Stats batch (grey matter)\n",
    "stats_job_template = op.join(\"code\", \"templates\", \"stats_job.m\")\n",
    "stats_name = preprocessing_job_name.replace(\"pre_processing\", \"stats_grey_matter\")\n",
    "\n",
    "design_dir = op.join(\"outputs\", f\"results-grey-matter-{cohort_id}\")\n",
    "os.makedirs(design_dir, exist_ok=True)\n",
    "\n",
    "\n",
    "# Don't mess up with ordering, it's critical\n",
    "rbds_smwc1 = [\n",
    "    f\"'{utils.smwc_scan(1, patno, rbds[rbds['PATNO']==patno]['EVENT_ID'].values[0])},1'\"\n",
    "    for patno in sorted(rbds[\"PATNO\"])\n",
    "]\n",
    "controls_smwc1 = [\n",
    "    f\"'{utils.smwc_scan(1, patno, controls[controls['PATNO']==patno]['EVENT_ID'].values[0])},1'\"\n",
    "    for patno in sorted(controls[\"PATNO\"])\n",
    "]\n",
    "\n",
    "groups_patnos = [x for group in (rbds, controls) for x in sorted(group[\"PATNO\"])]\n",
    "\n",
    "# Check orderding\n",
    "for i, x in enumerate(groups_patnos):\n",
    "    if i < len(rbds_smwc1):\n",
    "        assert f\"sub-{groups_patnos[i]}\" in rbds_smwc1[i]\n",
    "    else:\n",
    "        assert f\"sub-{groups_patnos[i]}\" in controls_smwc1[i - len(rbds_smwc1)]\n",
    "\n",
    "replace_keys = {\n",
    "    \"[DESIGN_DIR]\": op.abspath(design_dir),\n",
    "    \"[GROUP1_SMWC_SCANS]\": os.linesep.join(rbds_smwc1),\n",
    "    \"[GROUP2_SMWC_SCANS]\": os.linesep.join(controls_smwc1),\n",
    "    \"[ICVS]\": os.linesep.join(\n",
    "        [str(icvs[str(x)]) for x in groups_patnos]\n",
    "    ),  # don't mess up ordering\n",
    "    \"[AGES]\": os.linesep.join(\n",
    "        [str(cohort[cohort[\"PATNO\"] == x][\"Age\"].values[0]) for x in groups_patnos]\n",
    "    ),\n",
    "}\n",
    "\n",
    "# Stats batch\n",
    "stats_job_template = op.join(\"code\", \"templates\", \"stats_job.m\")\n",
    "stats_job_name = preprocessing_job_name.replace(\"pre_processing\", \"stats_grey_matter\")\n",
    "\n",
    "utils.write_spm_batch_files(stats_job_template, replace_keys, stats_job_name)"
   ]
  },
  {
   "cell_type": "code",
   "execution_count": 21,
   "metadata": {},
   "outputs": [
    {
     "name": "stdout",
     "output_type": "stream",
     "text": [
      "Log file stats_grey_matter__528899833549086226.log exists, skipping batch execution (remove file or use force=True to force execution)\n"
     ]
    }
   ],
   "source": [
    "output = utils.run_spm_batch_file(stats_name)"
   ]
  },
  {
   "cell_type": "code",
   "execution_count": 22,
   "metadata": {},
   "outputs": [],
   "source": [
    "# TODO: check ordering of covariates once again"
   ]
  },
  {
   "cell_type": "markdown",
   "metadata": {},
   "source": [
    "We obtain the following significant clusters:\n",
    "\n",
    "**Contrast 1 (RBD-Controls)**\n",
    "\n"
   ]
  },
  {
   "cell_type": "code",
   "execution_count": 23,
   "metadata": {},
   "outputs": [
    {
     "data": {
      "text/html": [
       "<div>\n",
       "<style scoped>\n",
       "    .dataframe tbody tr th:only-of-type {\n",
       "        vertical-align: middle;\n",
       "    }\n",
       "\n",
       "    .dataframe tbody tr th {\n",
       "        vertical-align: top;\n",
       "    }\n",
       "\n",
       "    .dataframe thead th {\n",
       "        text-align: right;\n",
       "    }\n",
       "</style>\n",
       "<table border=\"1\" class=\"dataframe\">\n",
       "  <thead>\n",
       "    <tr style=\"text-align: right;\">\n",
       "      <th></th>\n",
       "      <th>set</th>\n",
       "      <th>set.1</th>\n",
       "      <th>cluster</th>\n",
       "      <th>cluster.1</th>\n",
       "      <th>cluster.2</th>\n",
       "      <th>cluster.3</th>\n",
       "      <th>peak</th>\n",
       "      <th>peak.1</th>\n",
       "      <th>peak.2</th>\n",
       "      <th>peak.3</th>\n",
       "      <th>peak.4</th>\n",
       "      <th>Unnamed: 11</th>\n",
       "      <th>Unnamed: 12</th>\n",
       "      <th>Unnamed: 13</th>\n",
       "    </tr>\n",
       "  </thead>\n",
       "  <tbody>\n",
       "    <tr>\n",
       "      <th>0</th>\n",
       "      <td>p</td>\n",
       "      <td>c</td>\n",
       "      <td>p(FWE-corr)</td>\n",
       "      <td>p(FDR-corr)</td>\n",
       "      <td>equivk</td>\n",
       "      <td>p(unc)</td>\n",
       "      <td>p(FWE-corr)</td>\n",
       "      <td>p(FDR-corr)</td>\n",
       "      <td>T</td>\n",
       "      <td>equivZ</td>\n",
       "      <td>p(unc)</td>\n",
       "      <td>x</td>\n",
       "      <td>y</td>\n",
       "      <td>z {mm}</td>\n",
       "    </tr>\n",
       "  </tbody>\n",
       "</table>\n",
       "</div>"
      ],
      "text/plain": [
       "  set set.1      cluster    cluster.1 cluster.2 cluster.3         peak  \\\n",
       "0   p     c  p(FWE-corr)  p(FDR-corr)    equivk    p(unc)  p(FWE-corr)   \n",
       "\n",
       "        peak.1 peak.2  peak.3  peak.4 Unnamed: 11 Unnamed: 12 Unnamed: 13  \n",
       "0  p(FDR-corr)      T  equivZ  p(unc)           x           y      z {mm}  "
      ]
     },
     "execution_count": 23,
     "metadata": {},
     "output_type": "execute_result"
    }
   ],
   "source": [
    "results_files = glob.glob(op.join(design_dir, \"spm_*_001.csv\"))\n",
    "assert (\n",
    "    len(results_files) == 1\n",
    "), f\"Expected exactly 1 result file, got {len(results_files)}\"\n",
    "df = pd.read_csv(results_files[0])\n",
    "df"
   ]
  },
  {
   "cell_type": "markdown",
   "metadata": {},
   "source": [
    "**Contrast 2 (Controls-RBD)**"
   ]
  },
  {
   "cell_type": "code",
   "execution_count": 24,
   "metadata": {},
   "outputs": [
    {
     "data": {
      "text/html": [
       "<div>\n",
       "<style scoped>\n",
       "    .dataframe tbody tr th:only-of-type {\n",
       "        vertical-align: middle;\n",
       "    }\n",
       "\n",
       "    .dataframe tbody tr th {\n",
       "        vertical-align: top;\n",
       "    }\n",
       "\n",
       "    .dataframe thead th {\n",
       "        text-align: right;\n",
       "    }\n",
       "</style>\n",
       "<table border=\"1\" class=\"dataframe\">\n",
       "  <thead>\n",
       "    <tr style=\"text-align: right;\">\n",
       "      <th></th>\n",
       "      <th>set</th>\n",
       "      <th>set.1</th>\n",
       "      <th>cluster</th>\n",
       "      <th>cluster.1</th>\n",
       "      <th>cluster.2</th>\n",
       "      <th>cluster.3</th>\n",
       "      <th>peak</th>\n",
       "      <th>peak.1</th>\n",
       "      <th>peak.2</th>\n",
       "      <th>peak.3</th>\n",
       "      <th>peak.4</th>\n",
       "      <th>Unnamed: 11</th>\n",
       "      <th>Unnamed: 12</th>\n",
       "      <th>Unnamed: 13</th>\n",
       "    </tr>\n",
       "  </thead>\n",
       "  <tbody>\n",
       "    <tr>\n",
       "      <th>0</th>\n",
       "      <td>p</td>\n",
       "      <td>c</td>\n",
       "      <td>p(FWE-corr)</td>\n",
       "      <td>p(FDR-corr)</td>\n",
       "      <td>equivk</td>\n",
       "      <td>p(unc)</td>\n",
       "      <td>p(FWE-corr)</td>\n",
       "      <td>p(FDR-corr)</td>\n",
       "      <td>T</td>\n",
       "      <td>equivZ</td>\n",
       "      <td>p(unc)</td>\n",
       "      <td>x</td>\n",
       "      <td>y</td>\n",
       "      <td>z {mm}</td>\n",
       "    </tr>\n",
       "  </tbody>\n",
       "</table>\n",
       "</div>"
      ],
      "text/plain": [
       "  set set.1      cluster    cluster.1 cluster.2 cluster.3         peak  \\\n",
       "0   p     c  p(FWE-corr)  p(FDR-corr)    equivk    p(unc)  p(FWE-corr)   \n",
       "\n",
       "        peak.1 peak.2  peak.3  peak.4 Unnamed: 11 Unnamed: 12 Unnamed: 13  \n",
       "0  p(FDR-corr)      T  equivZ  p(unc)           x           y      z {mm}  "
      ]
     },
     "execution_count": 24,
     "metadata": {},
     "output_type": "execute_result"
    }
   ],
   "source": [
    "results_files = glob.glob(op.join(design_dir, \"spm_*_002.csv\"))\n",
    "assert (\n",
    "    len(results_files) == 1\n",
    "), f\"Expected exactly 1 result file, got {len(results_files)}\"\n",
    "df = pd.read_csv(results_files[0])\n",
    "df"
   ]
  },
  {
   "cell_type": "markdown",
   "metadata": {},
   "source": [
    "#### White matter"
   ]
  },
  {
   "cell_type": "code",
   "execution_count": 25,
   "metadata": {},
   "outputs": [
    {
     "name": "stdout",
     "output_type": "stream",
     "text": [
      "Job batch file written in stats_white_matter__528899833549086226_job.m\n",
      "Batch file written in stats_white_matter__528899833549086226_batch.m\n"
     ]
    }
   ],
   "source": [
    "design_dir = op.join(\"outputs\", f\"results-white-matter-{cohort_id}\")\n",
    "os.makedirs(design_dir, exist_ok=True)\n",
    "\n",
    "# Don't mess up with ordering, it's critical\n",
    "rbds_smwc2 = [\n",
    "    f\"'{utils.smwc_scan(2, patno, rbds[rbds['PATNO']==patno]['EVENT_ID'].values[0])},1'\"\n",
    "    for patno in sorted(rbds[\"PATNO\"])\n",
    "]\n",
    "controls_smwc2 = [\n",
    "    f\"'{utils.smwc_scan(2, patno, controls[controls['PATNO']==patno]['EVENT_ID'].values[0])},1'\"\n",
    "    for patno in sorted(controls[\"PATNO\"])\n",
    "]\n",
    "\n",
    "# Check orderding\n",
    "for i, x in enumerate(groups_patnos):\n",
    "    if i < len(rbds_smwc2):\n",
    "        assert f\"sub-{groups_patnos[i]}\" in rbds_smwc2[i]\n",
    "    else:\n",
    "        assert f\"sub-{groups_patnos[i]}\" in controls_smwc2[i - len(rbds_smwc2)]\n",
    "\n",
    "replace_keys = {\n",
    "    \"[DESIGN_DIR]\": op.abspath(design_dir),\n",
    "    \"[GROUP1_SMWC_SCANS]\": os.linesep.join(rbds_smwc2),\n",
    "    \"[GROUP2_SMWC_SCANS]\": os.linesep.join(controls_smwc2),\n",
    "    \"[ICVS]\": os.linesep.join(\n",
    "        [str(icvs[str(x)]) for x in groups_patnos]\n",
    "    ),  # don't mess up ordering\n",
    "    \"[AGES]\": os.linesep.join(\n",
    "        [str(cohort[cohort[\"PATNO\"] == x][\"Age\"].values[0]) for x in groups_patnos]\n",
    "    ),\n",
    "}\n",
    "\n",
    "# Stats batch\n",
    "stats_job_name = preprocessing_job_name.replace(\"pre_processing\", \"stats_white_matter\")\n",
    "\n",
    "utils.write_spm_batch_files(stats_job_template, replace_keys, stats_job_name)"
   ]
  },
  {
   "cell_type": "code",
   "execution_count": 26,
   "metadata": {},
   "outputs": [
    {
     "name": "stdout",
     "output_type": "stream",
     "text": [
      "Log file stats_white_matter__528899833549086226.log exists, skipping batch execution (remove file or use force=True to force execution)\n"
     ]
    }
   ],
   "source": [
    "output = utils.run_spm_batch_file(stats_job_name)"
   ]
  },
  {
   "cell_type": "markdown",
   "metadata": {},
   "source": [
    "We obtain the following significant clusters:\n",
    "\n",
    "**Contrast 1 (RBD-Controls)**\n",
    "\n"
   ]
  },
  {
   "cell_type": "code",
   "execution_count": 27,
   "metadata": {},
   "outputs": [
    {
     "data": {
      "text/html": [
       "<div>\n",
       "<style scoped>\n",
       "    .dataframe tbody tr th:only-of-type {\n",
       "        vertical-align: middle;\n",
       "    }\n",
       "\n",
       "    .dataframe tbody tr th {\n",
       "        vertical-align: top;\n",
       "    }\n",
       "\n",
       "    .dataframe thead th {\n",
       "        text-align: right;\n",
       "    }\n",
       "</style>\n",
       "<table border=\"1\" class=\"dataframe\">\n",
       "  <thead>\n",
       "    <tr style=\"text-align: right;\">\n",
       "      <th></th>\n",
       "      <th>set</th>\n",
       "      <th>set.1</th>\n",
       "      <th>cluster</th>\n",
       "      <th>cluster.1</th>\n",
       "      <th>cluster.2</th>\n",
       "      <th>cluster.3</th>\n",
       "      <th>peak</th>\n",
       "      <th>peak.1</th>\n",
       "      <th>peak.2</th>\n",
       "      <th>peak.3</th>\n",
       "      <th>peak.4</th>\n",
       "      <th>Unnamed: 11</th>\n",
       "      <th>Unnamed: 12</th>\n",
       "      <th>Unnamed: 13</th>\n",
       "    </tr>\n",
       "  </thead>\n",
       "  <tbody>\n",
       "    <tr>\n",
       "      <th>0</th>\n",
       "      <td>p</td>\n",
       "      <td>c</td>\n",
       "      <td>p(FWE-corr)</td>\n",
       "      <td>p(FDR-corr)</td>\n",
       "      <td>equivk</td>\n",
       "      <td>p(unc)</td>\n",
       "      <td>p(FWE-corr)</td>\n",
       "      <td>p(FDR-corr)</td>\n",
       "      <td>T</td>\n",
       "      <td>equivZ</td>\n",
       "      <td>p(unc)</td>\n",
       "      <td>x</td>\n",
       "      <td>y</td>\n",
       "      <td>z {mm}</td>\n",
       "    </tr>\n",
       "  </tbody>\n",
       "</table>\n",
       "</div>"
      ],
      "text/plain": [
       "  set set.1      cluster    cluster.1 cluster.2 cluster.3         peak  \\\n",
       "0   p     c  p(FWE-corr)  p(FDR-corr)    equivk    p(unc)  p(FWE-corr)   \n",
       "\n",
       "        peak.1 peak.2  peak.3  peak.4 Unnamed: 11 Unnamed: 12 Unnamed: 13  \n",
       "0  p(FDR-corr)      T  equivZ  p(unc)           x           y      z {mm}  "
      ]
     },
     "execution_count": 27,
     "metadata": {},
     "output_type": "execute_result"
    }
   ],
   "source": [
    "results_files = glob.glob(op.join(design_dir, \"spm_*_001.csv\"))\n",
    "assert (\n",
    "    len(results_files) == 1\n",
    "), f\"Expected exactly 1 result file, got {len(results_files)}\"\n",
    "df = pd.read_csv(results_files[0])\n",
    "df"
   ]
  },
  {
   "cell_type": "markdown",
   "metadata": {},
   "source": [
    "**Contrast 2 (Controls-RBD)**"
   ]
  },
  {
   "cell_type": "code",
   "execution_count": 28,
   "metadata": {},
   "outputs": [
    {
     "data": {
      "text/html": [
       "<div>\n",
       "<style scoped>\n",
       "    .dataframe tbody tr th:only-of-type {\n",
       "        vertical-align: middle;\n",
       "    }\n",
       "\n",
       "    .dataframe tbody tr th {\n",
       "        vertical-align: top;\n",
       "    }\n",
       "\n",
       "    .dataframe thead th {\n",
       "        text-align: right;\n",
       "    }\n",
       "</style>\n",
       "<table border=\"1\" class=\"dataframe\">\n",
       "  <thead>\n",
       "    <tr style=\"text-align: right;\">\n",
       "      <th></th>\n",
       "      <th>set</th>\n",
       "      <th>set.1</th>\n",
       "      <th>cluster</th>\n",
       "      <th>cluster.1</th>\n",
       "      <th>cluster.2</th>\n",
       "      <th>cluster.3</th>\n",
       "      <th>peak</th>\n",
       "      <th>peak.1</th>\n",
       "      <th>peak.2</th>\n",
       "      <th>peak.3</th>\n",
       "      <th>peak.4</th>\n",
       "      <th>Unnamed: 11</th>\n",
       "      <th>Unnamed: 12</th>\n",
       "      <th>Unnamed: 13</th>\n",
       "    </tr>\n",
       "  </thead>\n",
       "  <tbody>\n",
       "    <tr>\n",
       "      <th>0</th>\n",
       "      <td>p</td>\n",
       "      <td>c</td>\n",
       "      <td>p(FWE-corr)</td>\n",
       "      <td>p(FDR-corr)</td>\n",
       "      <td>equivk</td>\n",
       "      <td>p(unc)</td>\n",
       "      <td>p(FWE-corr)</td>\n",
       "      <td>p(FDR-corr)</td>\n",
       "      <td>T</td>\n",
       "      <td>equivZ</td>\n",
       "      <td>p(unc)</td>\n",
       "      <td>x</td>\n",
       "      <td>y</td>\n",
       "      <td>z {mm}</td>\n",
       "    </tr>\n",
       "  </tbody>\n",
       "</table>\n",
       "</div>"
      ],
      "text/plain": [
       "  set set.1      cluster    cluster.1 cluster.2 cluster.3         peak  \\\n",
       "0   p     c  p(FWE-corr)  p(FDR-corr)    equivk    p(unc)  p(FWE-corr)   \n",
       "\n",
       "        peak.1 peak.2  peak.3  peak.4 Unnamed: 11 Unnamed: 12 Unnamed: 13  \n",
       "0  p(FDR-corr)      T  equivZ  p(unc)           x           y      z {mm}  "
      ]
     },
     "execution_count": 28,
     "metadata": {},
     "output_type": "execute_result"
    }
   ],
   "source": [
    "results_files = glob.glob(op.join(design_dir, \"spm_*_002.csv\"))\n",
    "assert (\n",
    "    len(results_files) == 1\n",
    "), f\"Expected exactly 1 result file, got {len(results_files)}\"\n",
    "df = pd.read_csv(results_files[0])\n",
    "df"
   ]
  },
  {
   "cell_type": "code",
   "execution_count": null,
   "metadata": {},
   "outputs": [],
   "source": []
  }
 ],
 "metadata": {
  "celltoolbar": "Slideshow",
  "kernelspec": {
   "display_name": "Python 3 (ipykernel)",
   "language": "python",
   "name": "python3"
  },
  "language_info": {
   "codemirror_mode": {
    "name": "ipython",
    "version": 3
   },
   "file_extension": ".py",
   "mimetype": "text/x-python",
   "name": "python",
   "nbconvert_exporter": "python",
   "pygments_lexer": "ipython3",
   "version": "3.10.5"
  },
  "toc": {
   "base_numbering": 1,
   "nav_menu": {},
   "number_sections": true,
   "sideBar": true,
   "skip_h1_title": false,
   "title_cell": "Table of Contents",
   "title_sidebar": "Contents",
   "toc_cell": false,
   "toc_position": {},
   "toc_section_display": true,
   "toc_window_display": false
  }
 },
 "nbformat": 4,
 "nbformat_minor": 4
}
