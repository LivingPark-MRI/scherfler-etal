{
 "cells": [
  {
   "cell_type": "markdown",
   "metadata": {
    "slideshow": {
     "slide_type": "slide"
    }
   },
   "source": [
    "# Initial study\n",
    "\n",
    "This notebook identifies PPMI subjects to reproduce the following paper:\n",
    "\n",
    "\n",
    "<div class=\"alert alert-block alert-success\">\n",
    "Scherfler, Christoph, et al. <a href=https://onlinelibrary.wiley.com/doi/pdf/10.1002/ana.22245>White and gray matter abnormalities in idiopathic rapid eye movement sleep behavior disorder: a diffusion‐tensor imaging and voxel‐based morphometry study.</a> Annals of neurology 69.2 (2011): 400-407. \n",
    "</div>"
   ]
  },
  {
   "cell_type": "markdown",
   "metadata": {
    "slideshow": {
     "slide_type": "fragment"
    }
   },
   "source": [
    "This study recruited 34 patients with iRBD and confirmed iRBD diagnosis with polysomnography (PSG). Patients had no PD or dementia at time of MRI. The demographics parameters were as follows (table extracted from the paper):\n",
    "\n",
    "<img src=\"demographics.png\"/>"
   ]
  },
  {
   "cell_type": "code",
   "execution_count": 1,
   "metadata": {},
   "outputs": [
    {
     "data": {
      "text/html": [
       "<script>\n",
       "code_show=true; \n",
       "function code_toggle() {\n",
       " if (code_show){\n",
       " $('div.input').hide();\n",
       " } else {\n",
       " $('div.input').show();\n",
       " }\n",
       " code_show = !code_show\n",
       "} \n",
       "$( document ).ready(code_toggle);\n",
       "</script>\n",
       "<form action=\"javascript:code_toggle()\"><input type=\"submit\" value=\"Click here to toggle on/off the Python code.\"></form>"
      ],
      "text/plain": [
       "<IPython.core.display.HTML object>"
      ]
     },
     "execution_count": 1,
     "metadata": {},
     "output_type": "execute_result"
    }
   ],
   "source": [
    "from IPython.display import HTML\n",
    "\n",
    "HTML(\n",
    "    \"\"\"<script>\n",
    "code_show=true; \n",
    "function code_toggle() {\n",
    " if (code_show){\n",
    " $('div.input').hide();\n",
    " } else {\n",
    " $('div.input').show();\n",
    " }\n",
    " code_show = !code_show\n",
    "} \n",
    "$( document ).ready(code_toggle);\n",
    "</script>\n",
    "<form action=\"javascript:code_toggle()\"><input type=\"submit\" value=\"Click here to toggle on/off the Python code.\"></form>\"\"\"\n",
    ")"
   ]
  },
  {
   "cell_type": "code",
   "execution_count": 2,
   "metadata": {},
   "outputs": [
    {
     "name": "stdout",
     "output_type": "stream",
     "text": [
      "This notebook was run on 2022-07-13 13:10:01.966786\n"
     ]
    }
   ],
   "source": [
    "import datetime\n",
    "\n",
    "print(f\"This notebook was run on {datetime.datetime.now()}\")"
   ]
  },
  {
   "cell_type": "code",
   "execution_count": 3,
   "metadata": {},
   "outputs": [],
   "source": [
    "import warnings\n",
    "\n",
    "warnings.filterwarnings(\"ignore\")"
   ]
  },
  {
   "cell_type": "code",
   "execution_count": 4,
   "metadata": {},
   "outputs": [],
   "source": [
    "%%capture null\n",
    "!PIP_REQUIRE_VIRTUALENV=0  pip install -r requirements.txt"
   ]
  },
  {
   "cell_type": "markdown",
   "metadata": {},
   "source": [
    "# PPMI cohort preparation"
   ]
  },
  {
   "cell_type": "markdown",
   "metadata": {
    "slideshow": {
     "slide_type": "slide"
    }
   },
   "source": [
    "## Metadata download"
   ]
  },
  {
   "cell_type": "markdown",
   "metadata": {
    "slideshow": {
     "slide_type": "fragment"
    }
   },
   "source": [
    "Let's download the required metadata files from PPMI: \n",
    "* Age at visit\n",
    "* Demographics (to retrieve sex)\n",
    "* REM Sleep Behavior Disorder Questionnaire\n",
    "\n",
    "You will need to enter your PPMI username and password."
   ]
  },
  {
   "cell_type": "code",
   "execution_count": 5,
   "metadata": {
    "slideshow": {
     "slide_type": "fragment"
    }
   },
   "outputs": [
    {
     "name": "stdout",
     "output_type": "stream",
     "text": [
      "The following files are available: ['Age_at_visit.csv', 'Demographics.csv', 'REM_Sleep_Behavior_Disorder_Questionnaire.csv']\n"
     ]
    }
   ],
   "source": [
    "import os\n",
    "import os.path as op\n",
    "import ppmi_downloader\n",
    "\n",
    "data_dir = \"data\"\n",
    "required_files = [\n",
    "    \"Age_at_visit.csv\",\n",
    "    \"Demographics.csv\",\n",
    "    \"REM_Sleep_Behavior_Disorder_Questionnaire.csv\",\n",
    "]\n",
    "\n",
    "missing_files = [x for x in required_files if not op.exists(os.path.join(data_dir, x))]\n",
    "\n",
    "if len(missing_files) > 0:\n",
    "    print(f\"Downloading missing files: {missing_files}\")\n",
    "    ppmi = ppmi_downloader.PPMIDownloader()\n",
    "    ppmi.download_metadata(\n",
    "        missing_files, destination_dir=data_dir, headless=False, timeout=600\n",
    "    )\n",
    "\n",
    "print(f\"The following files are available: {required_files}\")"
   ]
  },
  {
   "cell_type": "markdown",
   "metadata": {},
   "source": [
    "We will also need file `MRI_info.csv` produced by notebook https://github.com/LivingPark-MRI/ppmi-MRI-metadata. This file contains aggregate information about T1-weighted MRIs usable for VBM. "
   ]
  },
  {
   "cell_type": "code",
   "execution_count": 6,
   "metadata": {},
   "outputs": [
    {
     "name": "stdout",
     "output_type": "stream",
     "text": [
      "File data/MRI_info.csv is available\n"
     ]
    }
   ],
   "source": [
    "file_path = op.join(\"data\", \"MRI_info.csv\")\n",
    "if not op.exists(file_path):\n",
    "    !(cd data && python -m wget \"https://raw.githubusercontent.com/LivingPark-MRI/ppmi-MRI-metadata/main/MRI metadata.ipynb\")  # use requests to improve portability\n",
    "    npath = op.join(\"data\", \"MRI metadata.ipynb\")\n",
    "    %run \"{npath}\"\n",
    "print(f\"File {file_path} is available\")"
   ]
  },
  {
   "cell_type": "markdown",
   "metadata": {
    "slideshow": {
     "slide_type": "slide"
    },
    "tags": []
   },
   "source": [
    "## RBD Score computation\n",
    "\n",
    "The original study used polysomnographies to diagnose REM Sleep Behavior Disorder, however, this data is not available in PPMI.\n",
    "Instead, we will use the REM Sleep Behavior Disorder Screening Questionnaire [[1]](https://movementdisorders.onlinelibrary.wiley.com/doi/10.1002/mds.21740) to discriminate RBD patients from controls. This questionnaire consists of 13 yes/no questions that are aggregated to produce an RBD score on a scale of 13 points. "
   ]
  },
  {
   "cell_type": "markdown",
   "metadata": {},
   "source": [
    "We obtain the following distribution of RBD scores in the PPMI dataset:"
   ]
  },
  {
   "cell_type": "code",
   "execution_count": 7,
   "metadata": {
    "slideshow": {
     "slide_type": "slide"
    }
   },
   "outputs": [
    {
     "data": {
      "image/png": "[encoded data removed]",
      "text/plain": [
       "<Figure size 432x288 with 1 Axes>"
      ]
     },
     "metadata": {
      "needs_background": "light"
     },
     "output_type": "display_data"
    }
   ],
   "source": [
    "# Load PPMI RSBDQ data\n",
    "import pandas as pd\n",
    "\n",
    "df = pd.read_csv(op.join(\"data\", \"REM_Sleep_Behavior_Disorder_Questionnaire.csv\"))\n",
    "\n",
    "# Compute and add RBDSQ score\n",
    "df[\"RBDSQ\"] = (\n",
    "    df[\"DRMVIVID\"]  # Q1\n",
    "    + df[\"DRMAGRAC\"]  # Q2\n",
    "    + df[\"DRMNOCTB\"]  # Q3\n",
    "    + df[\"SLPLMBMV\"]  # Q4\n",
    "    + df[\"SLPINJUR\"]  # Q5\n",
    "    + df[\"DRMVERBL\"]  # Q6.1\n",
    "    + df[\"DRMFIGHT\"]  # Q6.2\n",
    "    + df[\"DRMUMV\"]  # Q6.3\n",
    "    + df[\"DRMOBJFL\"]  # Q6.4\n",
    "    + df[\"MVAWAKEN\"]  # Q7\n",
    "    + df[\"DRMREMEM\"]  # Q8\n",
    "    + df[\"SLPDSTRB\"]  # Q9\n",
    "    + df[  # Q10\n",
    "        [\n",
    "            \"BRNINFM\",\n",
    "            \"DEPRS\",\n",
    "            \"EPILEPSY\",\n",
    "            \"HETRA\",\n",
    "            \"NARCLPSY\",\n",
    "            \"PARKISM\",\n",
    "            \"RLS\",\n",
    "            \"STROKE\",\n",
    "        ]\n",
    "    ].max(axis=1)\n",
    ")\n",
    "\n",
    "df[\"Q6\"] = df[\"DRMVERBL\"] + df[\"DRMFIGHT\"] + df[\"DRMUMV\"] + df[\"DRMOBJFL\"]\n",
    "\n",
    "# Note: CNSOTHCM isn't present in data\n",
    "\n",
    "# Check that max RBDSQ score is <= 13\n",
    "assert df[\"RBDSQ\"].max() <= 13\n",
    "\n",
    "df.groupby(\"RBDSQ\").count()[\"REC_ID\"].plot.bar()\n",
    "\n",
    "from matplotlib import pyplot as plt\n",
    "\n",
    "plt.ylabel(\"Number of records\")\n",
    "plt.show()"
   ]
  },
  {
   "cell_type": "markdown",
   "metadata": {
    "tags": []
   },
   "source": [
    "## Filters\n",
    "\n",
    "Consistently with the original study, we only include subjects with no Parkinsonism. We include subjects in the RBD group when their RBD score is >= 5. We include subjects in the control group when their RBD score is < 5 and their score to Question 6 of the RBD Screening Questionnaire is 0 [**TODO** ref needed, see email thread between Madeleine and Ron Postuma].\n",
    "\n",
    "We obtain the following group sizes:\n",
    "\n",
    "<!-- and a cutoff score of 6 to identify RBD subjects among PD subjects, consistently with the results presented in [[2]](https://www.sciencedirect.com# /science/article/pii/S138994571100164X). -->"
   ]
  },
  {
   "cell_type": "code",
   "execution_count": 8,
   "metadata": {
    "slideshow": {
     "slide_type": "fragment"
    }
   },
   "outputs": [
    {
     "name": "stdout",
     "output_type": "stream",
     "text": [
      "Number of RBD subjects: 742\n",
      "Number of control subjects: 1045\n"
     ]
    }
   ],
   "source": [
    "# Read demographics and MRI data.\n",
    "mri = pd.read_csv(op.join(\"data\", \"MRI_info.csv\"))[\n",
    "    [\"Subject ID\", \"Visit code\", \"Description\"]\n",
    "]\n",
    "mri.rename(columns={\"Subject ID\": \"PATNO\", \"Visit code\": \"EVENT_ID\"}, inplace=True)\n",
    "dem = pd.read_csv(op.join(\"data\", \"Demographics.csv\"))[[\"PATNO\", \"SEX\"]]\n",
    "age = pd.read_csv(op.join(\"data\", \"Age_at_visit.csv\"))\n",
    "\n",
    "# Merge RBD data with demographics, age and MRI\n",
    "merged = (\n",
    "    df.merge(dem, on=\"PATNO\", how=\"inner\")\n",
    "    .merge(age, on=[\"PATNO\", \"EVENT_ID\"], how=\"inner\")\n",
    "    .merge(mri, on=[\"PATNO\", \"EVENT_ID\"], how=\"inner\")[\n",
    "        [\"PATNO\", \"RBDSQ\", \"Q6\", \"SEX\", \"AGE_AT_VISIT\", \"Description\"]\n",
    "    ]\n",
    ")\n",
    "\n",
    "# Extract RBD subjects and controls according to inclusion criteria\n",
    "rbds = merged[merged[\"RBDSQ\"] >= 5].sort_values(by=\"PATNO\")\n",
    "controls = merged[(merged[\"RBDSQ\"] < 5) & (merged[\"Q6\"] == 0)].sort_values(by=\"PATNO\")\n",
    "\n",
    "print(f\"Number of RBD subjects: {len(rbds)}\")\n",
    "print(f\"Number of control subjects: {len(controls)}\")"
   ]
  },
  {
   "cell_type": "markdown",
   "metadata": {
    "slideshow": {
     "slide_type": "slide"
    }
   },
   "source": [
    "## Cohort matching"
   ]
  },
  {
   "cell_type": "markdown",
   "metadata": {
    "slideshow": {
     "slide_type": "fragment"
    }
   },
   "source": [
    "The RBD and control groups built previously give us a lot of flexibility to build a cohort that matches the one in the original study. We adopted the following approach:\n",
    "1. Randomly select 4 control women and 10 control men, to reproduce the F/M balance in the original paper\n",
    "2. Find 26 subjects from the RBD group that best match age and sex in the control group. We matched sex by direct sampling of males and females using the same proportion as in the original study. We matched age using a nearest-neighbor approach.\n",
    "\n",
    "We obtain the following cohort:"
   ]
  },
  {
   "cell_type": "code",
   "execution_count": 9,
   "metadata": {
    "slideshow": {
     "slide_type": "fragment"
    }
   },
   "outputs": [],
   "source": [
    "def nn_match(sample1, df_2, n2, cat_variables, num_variables, random_state=0):\n",
    "    \"\"\"\n",
    "    Find len(sample1) rows in df_2 such that variables are matched with sample1.\n",
    "\n",
    "    sample1: samples in group1\n",
    "    df_2: dataframe with subjects in group 2\n",
    "    n2: desired sample size for group 2\n",
    "    cat_variables: categorical variables to match\n",
    "    num_variables: numerical variables to match\n",
    "    \"\"\"\n",
    "\n",
    "    def nn(x, df, variables):\n",
    "        \"\"\"\n",
    "        Find index of nearest neighbor of x in df\n",
    "\n",
    "        * x: a dataframe row\n",
    "        * df: a dataframe\n",
    "        * variables: variables to match. Should be normalized.\n",
    "        \"\"\"\n",
    "        df[\"dist\"] = sum((df[var] - x[var]) ** 2 for var in variables)\n",
    "        df.sort_values(\"dist\", inplace=True)\n",
    "        return df.head(1).index[\n",
    "            0\n",
    "        ]  ## there's probably a better way to do it but it works\n",
    "\n",
    "    # Check assumptions\n",
    "    n1 = len(sample1)\n",
    "    assert n1 <= n2\n",
    "    for v in num_variables + cat_variables:\n",
    "        assert v in sample1 and v in df_2\n",
    "\n",
    "    # Copy original dataframe to leave them untouched\n",
    "    df_2_ = df_2.copy()\n",
    "    sample1_ = sample1.copy()\n",
    "\n",
    "    # Normalize variables to match to compute meaningful distances\n",
    "    for v in num_variables:\n",
    "        m = df_2_[v].mean()\n",
    "        s = df_2_[v].std()\n",
    "        for df in (df_2_, sample1_):\n",
    "            df[v] = (df[v] - m) / s\n",
    "\n",
    "    # For each subject in sampled group 1,\n",
    "    # find one or more subject in sampled group 2, without replacement.\n",
    "    indices = []\n",
    "    for i in range(n2):\n",
    "        j = i % n1  # loop over sample1\n",
    "        df_2_cat = df_2_.copy()\n",
    "        for c in cat_variables:\n",
    "            df_2_cat = df_2_cat[df_2_cat[c] == sample1_.iloc[j][c]]\n",
    "        assert len(df_2_cat) > 0\n",
    "        index = nn(sample1_.iloc[j], df_2_cat, num_variables)\n",
    "        df_2_.drop(index=index, inplace=True)\n",
    "        indices.append(index)\n",
    "\n",
    "    sample2 = df_2[df_2.index.isin(indices)]\n",
    "\n",
    "    return sample2"
   ]
  },
  {
   "cell_type": "code",
   "execution_count": 10,
   "metadata": {
    "slideshow": {
     "slide_type": "slide"
    }
   },
   "outputs": [],
   "source": [
    "# Randomly select 4 control women and 10 control men, to reproduce F/M balance in original paper\n",
    "controls = pd.concat(\n",
    "    [\n",
    "        controls[controls[\"SEX\"] == 0].sample(n=4, random_state=1),\n",
    "        controls[controls[\"SEX\"] == 1].sample(n=10, random_state=1),\n",
    "    ]\n",
    ")\n",
    "\n",
    "# Match with RBD subjects\n",
    "rbds = nn_match(controls, rbds, 26, [\"SEX\"], [\"AGE_AT_VISIT\"], random_state=1)"
   ]
  },
  {
   "cell_type": "code",
   "execution_count": 11,
   "metadata": {
    "slideshow": {
     "slide_type": "fragment"
    }
   },
   "outputs": [
    {
     "name": "stdout",
     "output_type": "stream",
     "text": [
      "\t\t\t| iRBD Patients\t| Controls\n",
      "Subjects, No. \t\t| 26 \t\t| 14\n",
      "F/M, No. \t\t| 8/18 \t\t| 4/10\n",
      "Age, mean +/- SD \t| 62.0 +/- 10.9 \t| 62.2 +/- 10.8\n"
     ]
    }
   ],
   "source": [
    "import os\n",
    "\n",
    "print(\n",
    "    \"\\t\\t\\t| iRBD Patients\\t| Controls\"\n",
    "    + os.linesep\n",
    "    + f\"Subjects, No. \\t\\t| {len(rbds)} \\t\\t| {len(controls)}\"\n",
    "    + os.linesep\n",
    "    + f\"F/M, No. \\t\\t| {len(rbds[rbds['SEX']==0])}/{len(rbds[rbds['SEX']==1])} \\t\\t| {len(controls[controls['SEX']==0])}/{len(controls[controls['SEX']==1])}\"\n",
    "    + os.linesep\n",
    "    + f\"Age, mean +/- SD \\t| {round(rbds['AGE_AT_VISIT'].mean(),1)} +/- {round(rbds['AGE_AT_VISIT'].std(),1)} \\t| {round(controls['AGE_AT_VISIT'].mean(),1)} +/- {round(controls['AGE_AT_VISIT'].std(),1)}\"\n",
    ")"
   ]
  },
  {
   "cell_type": "markdown",
   "metadata": {
    "slideshow": {
     "slide_type": "fragment"
    }
   },
   "source": [
    "The demographics parameters of the selected PPMI subjects seem comparable to the ones in the initial study. By construction, gender balance is better in our cohort than in the original study."
   ]
  },
  {
   "cell_type": "code",
   "execution_count": 12,
   "metadata": {},
   "outputs": [],
   "source": [
    "# Save patient ids\n",
    "pd.concat([controls[\"PATNO\"], rbds[\"PATNO\"]]).to_csv(\n",
    "    \"scherfler-etal-patnos.csv\", index=False\n",
    ")"
   ]
  },
  {
   "cell_type": "markdown",
   "metadata": {},
   "source": [
    "# Image analysis\n",
    "\n",
    "Structural MRI analysis in the original paper is a straightforward VBM analysis implemented with SPM using the DARTEL toolbox. An excellent tutorial on VBM in SPM is available in https://www.fil.ion.ucl.ac.uk/~john/misc/VBMclass15.pdf"
   ]
  },
  {
   "cell_type": "markdown",
   "metadata": {},
   "source": [
    "## Imaging data download"
   ]
  },
  {
   "cell_type": "markdown",
   "metadata": {},
   "source": [
    "First, let's download or update the DataLad dataset associated with this paper. This dataset contains:\n",
    "* MRI data for the selected subjects\n",
    "* Pre-computed analysis results\n",
    "LivingPark DataLad datasets are currently stored on `login.bic.mni.mcgill.ca`. This notebook assumes that you can ssh to this server and that you have configured DataLad in your account (see instructions [here](https://docs.google.com/document/d/1K7RzQjYC1O6tpSqe_c0CvxvJq38J10zNrDIdw20Yh_0/edit?usp=sharing)). "
   ]
  },
  {
   "cell_type": "code",
   "execution_count": 13,
   "metadata": {
    "scrolled": true
   },
   "outputs": [
    {
     "name": "stderr",
     "output_type": "stream",
     "text": [
      "[INFO] Fetching updates for Dataset(/home/glatard/code/livingpark/scherfler-etal/.datalad) \n"
     ]
    },
    {
     "name": "stdout",
     "output_type": "stream",
     "text": [
      "merge(ok): . (dataset) [Merged origin/master]\n",
      "update.annex_merge(ok): . (dataset) [Merged annex branch]\n",
      "update(ok): . (dataset)\n",
      "action summary:\n",
      "  merge (ok: 1)\n",
      "  update (ok: 1)\n",
      "  update.annex_merge (ok: 1)\n"
     ]
    }
   ],
   "source": [
    "import datalad\n",
    "import datalad.api as dat\n",
    "import os.path as op\n",
    "import io\n",
    "from contextlib import redirect_stdout, redirect_stderr\n",
    "\n",
    "# Download datalad dataset\n",
    "datalad_path = \".datalad\"  # local dataset name\n",
    "user = \"glatard\"  # username on login.bic.mni.mcgill.ca\n",
    "if op.exists(datalad_path):\n",
    "    d = dat.Dataset(datalad_path)\n",
    "    d.update(how=\"merge\")\n",
    "else:\n",
    "    dat.install(\n",
    "        source=f\"{user}@login.bic.mni.mcgill.ca:/data/pd/ppmi/livingpark-papers/scherfler-etal\",\n",
    "        path=datalad_path,\n",
    "    )"
   ]
  },
  {
   "cell_type": "markdown",
   "metadata": {},
   "source": [
    "We then check if the subjects selected in our cohort are available in the DataLad dataset:"
   ]
  },
  {
   "cell_type": "code",
   "execution_count": 14,
   "metadata": {
    "scrolled": true
   },
   "outputs": [
    {
     "name": "stdout",
     "output_type": "stream",
     "text": [
      "Number of available subjects: 2\n",
      "Number of missing subjects: 38\n"
     ]
    }
   ],
   "source": [
    "dataset_name = \"inputs\"\n",
    "\n",
    "subject_ids = list(controls.append(rbds)[\"PATNO\"])\n",
    "missing_subjects = [\n",
    "    x for x in subject_ids if not op.exists(op.join(dataset_name, f\"sub-{x}\"))\n",
    "]\n",
    "available_subjects = list(set(subject_ids) - set(missing_subjects))\n",
    "print(f\"Number of available subjects: {len(sorted(available_subjects))}\")\n",
    "print(f\"Number of missing subjects: {len(sorted(missing_subjects))}\")"
   ]
  },
  {
   "cell_type": "markdown",
   "metadata": {},
   "source": [
    "**TODO** In the future we will download the missing subjects, convert them to BIDS, and add them to DataLad dataset. For now we will just proceed with the available subjects."
   ]
  },
  {
   "cell_type": "code",
   "execution_count": 15,
   "metadata": {},
   "outputs": [],
   "source": [
    "# # Download missing subjects\n",
    "# import ppmi_downloader\n",
    "\n",
    "# ppmi = ppmi_downloader.PPMIDownloader()\n",
    "# ppmi.download_imaging_data(missing_subjects, headless=False, timeout=3600)"
   ]
  },
  {
   "cell_type": "markdown",
   "metadata": {},
   "source": [
    "T1 images comes as .nii.gz files while SPM requires .nii files. Let's get the required images and uncompress them if not already done in the DataLad dataste:"
   ]
  },
  {
   "cell_type": "code",
   "execution_count": 16,
   "metadata": {
    "tags": []
   },
   "outputs": [
    {
     "name": "stdout",
     "output_type": "stream",
     "text": [
      "Downloaded and uncompressed 0 T1 images (the other ones were already available in the DataLad dataset)\n"
     ]
    }
   ],
   "source": [
    "import gzip\n",
    "import shutil\n",
    "import glob\n",
    "\n",
    "\n",
    "def unzip(filename, output_filename):\n",
    "    with gzip.open(filename, \"rb\") as f_in:\n",
    "        os.makedirs(op.dirname(output_filename), exist_ok=True)\n",
    "        with open(output_filename, \"wb\") as f_out:\n",
    "            shutil.copyfileobj(f_in, f_out)\n",
    "\n",
    "\n",
    "count = 0\n",
    "for s in available_subjects:\n",
    "    glob_expression = (\n",
    "        f\"{dataset_name}/sub-{s}/ses-1/anat/sub-{s}_ses-1_*run-01_T1w.nii.gz\"\n",
    "    )\n",
    "    for file_name in glob.glob(glob_expression):\n",
    "        output_filename = file_name.replace(\".gz\", \"\").replace(\n",
    "            dataset_name, op.join(\"outputs\", \"data\")\n",
    "        )\n",
    "        if not op.exists(output_filename):\n",
    "            count += 1\n",
    "            dat.get(file_name.replace(dataset_path, op.join(datalad_path, \"inputs\")))\n",
    "            unzip(file_name, output_filename)  # to make it usable in SPM\n",
    "print(\n",
    "    f\"Downloaded and uncompressed {count} T1 images (the other ones were already available in the DataLad dataset)\"\n",
    ")"
   ]
  },
  {
   "cell_type": "markdown",
   "metadata": {},
   "source": [
    "## Image processing"
   ]
  },
  {
   "cell_type": "markdown",
   "metadata": {},
   "source": [
    "Image processing consists of:\n",
    "1. Data pre-processing: segmentation, DARTEL template generation, normalization to MNI space\n",
    "2. Intra-cranial volume computation (to be used as covariates in the statistical model)\n",
    "3. Statistical model\n",
    "\n",
    "We implemented each of these steps as an SPM batch. For each batch, we created a template where file names will be inserted. Batch templates are available in `code/templates`.\n",
    "\n",
    "We generate a run id that uniquely identifies the cohort built previously. We will use this run id to avoid recomputing the same results multiple times."
   ]
  },
  {
   "cell_type": "code",
   "execution_count": 17,
   "metadata": {},
   "outputs": [
    {
     "name": "stdout",
     "output_type": "stream",
     "text": [
      "Run id: 3071741767022442618\n"
     ]
    }
   ],
   "source": [
    "run_id = str(hash(tuple(sorted(controls.append(rbds)[\"PATNO\"])))).replace(\n",
    "    \"-\", \"_\"\n",
    ")  # - in filenames crash SPM (Matlab)\n",
    "print(f\"Run id: {run_id}\")"
   ]
  },
  {
   "cell_type": "markdown",
   "metadata": {},
   "source": [
    "### Pre-processing"
   ]
  },
  {
   "cell_type": "markdown",
   "metadata": {},
   "source": [
    "Let's parametrize the pre-processing batch template using the subjects in the cohort:"
   ]
  },
  {
   "cell_type": "code",
   "execution_count": 18,
   "metadata": {},
   "outputs": [],
   "source": [
    "import tempfile\n",
    "\n",
    "\n",
    "def write_batch_files(batch_job_filename, replaced_keys, tempfile_name):\n",
    "    \"\"\"\n",
    "    tempfile_name: should end in _job.m\n",
    "    \"\"\"\n",
    "\n",
    "    def replace_keys(string, replace_keys):\n",
    "        for k in replace_keys:\n",
    "            string = string.replace(k, replace_keys[k])\n",
    "        return string\n",
    "\n",
    "    # Batch job file\n",
    "    with open(batch_job_filename, \"r\") as f:\n",
    "        content = f.read()\n",
    "\n",
    "    assert tempfile_name.endswith(\"_job.m\")\n",
    "\n",
    "    with open(tempfile_name, \"w\") as f:\n",
    "        f.write(replace_keys(content, replaced_keys))\n",
    "\n",
    "    print(f\"Job batch file written in {op.basename(tempfile_name)}\")\n",
    "\n",
    "    # Batch file\n",
    "    batch_file = op.join(\"code\", \"templates\", \"call_batch.m\")\n",
    "    tempfile_name_batch = tempfile_name.replace(\"_job\", \"_batch\")\n",
    "\n",
    "    with open(batch_file, \"r\") as f:\n",
    "        content = f.read()\n",
    "\n",
    "    with open(tempfile_name_batch, \"w\") as f:\n",
    "        f.write(\n",
    "            replace_keys(\n",
    "                content,\n",
    "                {\n",
    "                    \"[BATCH]\": f\"addpath('{op.join(os.getcwd(), 'code', 'batches')}')\"\n",
    "                    + os.linesep\n",
    "                    + op.basename(tempfile_name.replace(\".m\", \"\"))\n",
    "                },\n",
    "            )\n",
    "        )\n",
    "\n",
    "    print(f\"Batch file written in {op.basename(tempfile_name_batch)}\")\n",
    "\n",
    "\n",
    "def run_batch_file(job_filename):\n",
    "\n",
    "    log_file_name = op.abspath(\n",
    "        op.join(\"outputs\", \"logs\", op.basename(job_filename.replace(\"_job.m\", \".log\")))\n",
    "    )\n",
    "    spm_batch_file = job_filename.replace(\"_job\", \"_batch\")\n",
    "\n",
    "    if op.exists(log_file_name):\n",
    "        print(\n",
    "            f\"Log file {op.basename(log_file_name)} exists, skipping batch execution (remove file to force execution)\"\n",
    "        )\n",
    "        return\n",
    "\n",
    "    print(f\"Log file {op.basename(log_file_name)} does not exist, running batch\")\n",
    "\n",
    "    dat.unlock(\n",
    "        dataset=d\n",
    "    )  # unlock the dataset so that results can be overwritten if necessary\n",
    "    output = spm_batch(\n",
    "        \"launch\", \"-s\", \"-u\", spm_batch_file=spm_batch_file, log_file_name=log_file_name\n",
    "    )\n",
    "\n",
    "    assert (\n",
    "        output.exit_code == 0\n",
    "    ), f\"Execution error, inspect output object for logs: {output}\"\n",
    "\n",
    "    print(f\"Execution was successful.\")\n",
    "\n",
    "    return output"
   ]
  },
  {
   "cell_type": "code",
   "execution_count": 19,
   "metadata": {},
   "outputs": [
    {
     "name": "stdout",
     "output_type": "stream",
     "text": [
      "Job batch file written in pre_processing_3071741767022442618_job.m\n",
      "Batch file written in pre_processing_3071741767022442618_batch.m\n"
     ]
    }
   ],
   "source": [
    "import glob\n",
    "\n",
    "\n",
    "def subject_T1(subject_id):\n",
    "    expression = f\"{op.join('outputs', 'data')}/sub-{subject_id}/ses-1/anat/sub-{subject_id}_ses-1_*run-01_T1w.nii\"\n",
    "    file_names = glob.glob(expression)\n",
    "    assert (\n",
    "        len(file_names) == 1\n",
    "    ), f\"Zero or more than 1 files were matched by expression: {expression}\"\n",
    "    return file_names[0]\n",
    "\n",
    "\n",
    "# Preprocessing batch\n",
    "preprocessing_batch_job = op.join(\"code\", \"templates\", \"pre_processing_job.m\")\n",
    "preprocessing_name = op.abspath(\n",
    "    op.join(\"code\", \"batches\", f\"pre_processing_{run_id}_job.m\")\n",
    ")\n",
    "\n",
    "image_files = sorted([f\"'{op.abspath(subject_T1(s))},1'\" for s in available_subjects])\n",
    "write_batch_files(\n",
    "    preprocessing_batch_job,\n",
    "    {\"[IMAGES]\": os.linesep.join(image_files)},\n",
    "    tempfile_name=preprocessing_name,\n",
    ")"
   ]
  },
  {
   "cell_type": "markdown",
   "metadata": {},
   "source": [
    "We can now run the pre-processing batch. To ensure that it will run on this computer, we containerized it with Docker and wrapped it in a Boutiques descriptor. Let's run the batch. If it's the first time that you run this notebook, the Docker container will be downloaded to your computer:"
   ]
  },
  {
   "cell_type": "code",
   "execution_count": 20,
   "metadata": {},
   "outputs": [
    {
     "name": "stdout",
     "output_type": "stream",
     "text": [
      "Log file /home/glatard/code/livingpark/scherfler-etal/outputs/logs/pre_processing_3071741767022442618.log exists, skipping batch execution (remove file to force execution)\n"
     ]
    }
   ],
   "source": [
    "# Boutiques initialization for SPM batch\n",
    "from boutiques.descriptor2func import function\n",
    "\n",
    "spm_batch = function(\n",
    "    op.join(\"envs\", \"docker\", \"spm-batch.json\")\n",
    ")  # Use Octave 5.2.0 for DARTEL or it crashes\n",
    "\n",
    "output = run_batch_file(preprocessing_name)"
   ]
  },
  {
   "cell_type": "markdown",
   "metadata": {},
   "source": [
    "### Intra-cranial volume computation\n",
    "\n",
    "We compute intra-cranial volumes by (1) computing tissue volumes using the corresponding tool in SPM, (2) summing the grey-matter, white-matter, and CSF volumes. \n",
    "\n",
    "First, let's run the tissue volumes batch:"
   ]
  },
  {
   "cell_type": "code",
   "execution_count": 21,
   "metadata": {},
   "outputs": [
    {
     "name": "stdout",
     "output_type": "stream",
     "text": [
      "Job batch file written in tissue_volumes_3071741767022442618_job.m\n",
      "Batch file written in tissue_volumes_3071741767022442618_batch.m\n",
      "Log file /home/glatard/code/livingpark/scherfler-etal/outputs/logs/tissue_volumes_3071741767022442618.log exists, skipping batch execution (remove file to force execution)\n"
     ]
    }
   ],
   "source": [
    "# Tissue volumes batch\n",
    "tissue_volumes_batch_job = op.join(\"code\", \"templates\", \"tissue_volumes_job.m\")\n",
    "volumes_name = preprocessing_name.replace(\"pre_processing\", \"tissue_volumes\")\n",
    "\n",
    "segmentation_files = sorted(\n",
    "    [x.replace(\".nii\", \"_seg8.mat\").replace(\",1\", \"\") for x in image_files]\n",
    ")\n",
    "volumes_file = op.abspath(\n",
    "    op.join(\"outputs\", op.basename(volumes_name.replace(\".m\", \".txt\")))\n",
    ")  # output file containing brain volumes\n",
    "write_batch_files(\n",
    "    tissue_volumes_batch_job,\n",
    "    {\n",
    "        \"[SEGMENTATION_FILES]\": os.linesep.join(segmentation_files),\n",
    "        \"[VOLUMES_FILE]\": volumes_file,\n",
    "    },\n",
    "    tempfile_name=volumes_name,\n",
    ")\n",
    "output = run_batch_file(volumes_name)"
   ]
  },
  {
   "cell_type": "markdown",
   "metadata": {},
   "source": [
    "We obtain the following intra-cranial volumes (in litres):"
   ]
  },
  {
   "cell_type": "code",
   "execution_count": 22,
   "metadata": {},
   "outputs": [
    {
     "name": "stdout",
     "output_type": "stream",
     "text": [
      "1.596575\n",
      "1.6336870000000001\n"
     ]
    }
   ],
   "source": [
    "# Read tissue volumes file\n",
    "\n",
    "import csv\n",
    "\n",
    "icvs = {}  # intra-cranial volumes per segmentation file\n",
    "\n",
    "\n",
    "def subject_id(segmentation_filename):\n",
    "    \"\"\"\n",
    "    Return subject id from segmentation file name\n",
    "    \"\"\"\n",
    "\n",
    "    sub_id = segmentation_filename.split(op.sep)[-4].replace(\"sub-\", \"\")\n",
    "    assert int(sub_id)\n",
    "    return sub_id\n",
    "\n",
    "\n",
    "with open(volumes_file) as csvfile:\n",
    "    reader = csv.DictReader(csvfile)\n",
    "    for row in reader:\n",
    "        assert len(row) == 4, f\"Malformed row: {row}\"\n",
    "        icvs[subject_id(row[\"File\"])] = (\n",
    "            float(row[\"Volume1\"]) + float(row[\"Volume2\"]) + float(row[\"Volume3\"])\n",
    "        )\n",
    "\n",
    "for x in icvs:\n",
    "    print(icvs[x])"
   ]
  },
  {
   "cell_type": "markdown",
   "metadata": {},
   "source": [
    "## Statistical analysis"
   ]
  },
  {
   "cell_type": "code",
   "execution_count": 23,
   "metadata": {},
   "outputs": [],
   "source": [
    "spm_batch = function(op.join(\"envs\", \"docker\", \"spm-batch.json\"))"
   ]
  },
  {
   "cell_type": "code",
   "execution_count": 24,
   "metadata": {},
   "outputs": [
    {
     "name": "stdout",
     "output_type": "stream",
     "text": [
      "Job batch file written in stats_3071741767022442618_job.m\n",
      "Batch file written in stats_3071741767022442618_batch.m\n",
      "Log file /home/glatard/code/livingpark/scherfler-etal/outputs/logs/stats_3071741767022442618.log exists, skipping batch execution (remove file to force execution)\n"
     ]
    }
   ],
   "source": [
    "# Stats batch (grey matter)\n",
    "stats_batch_job = op.join(\"code\", \"templates\", \"stats_job.m\")\n",
    "stats_name = preprocessing_name.replace(\"pre_processing\", \"stats\")\n",
    "\n",
    "design_dir = op.join(\"outputs\", \"results\")\n",
    "os.makedirs(design_dir, exist_ok=True)\n",
    "\n",
    "\n",
    "def smwc1_scan(patno):\n",
    "    expression = f\"{op.join('outputs', 'data')}/sub-{patno}/ses-1/anat/smwc1sub-{patno}_ses-1_*run-01_T1w.nii\"\n",
    "    files = glob.glob(expression)\n",
    "    assert (\n",
    "        len(files) == 1\n",
    "    ), f\"Zero or more than 1 files were matched by expression: {expression}\"\n",
    "    return op.abspath(files[0])\n",
    "\n",
    "\n",
    "# Don't mess up with ordering, it's critical\n",
    "rbds_smwc1 = [\n",
    "    f\"'{smwc1_scan(patno)},1'\"\n",
    "    for patno in sorted(rbds[\"PATNO\"])\n",
    "    if patno in available_subjects\n",
    "]\n",
    "controls_smwc1 = [\n",
    "    f\"'{smwc1_scan(patno)},1'\"\n",
    "    for patno in sorted(controls[\"PATNO\"])\n",
    "    if patno in available_subjects\n",
    "]\n",
    "\n",
    "groups_patnos = [\n",
    "    x\n",
    "    for group in (rbds, controls)\n",
    "    for x in sorted(group[\"PATNO\"])\n",
    "    if x in available_subjects\n",
    "]\n",
    "all_subjects = pd.concat([rbds, controls])\n",
    "\n",
    "# Check orderding\n",
    "for i, x in enumerate(groups_patnos):\n",
    "    if i < len(rbds_smwc1):\n",
    "        assert f\"sub-{groups_patnos[i]}\" in rbds_smwc1[i]\n",
    "    else:\n",
    "        assert f\"sub-{groups_patnos[i]}\" in controls_smwc1[i - len(rbds_smwc1)]\n",
    "\n",
    "replace_keys = {\n",
    "    \"[DESIGN_DIR]\": op.abspath(design_dir),\n",
    "    \"[GROUP1_SMWC1_SCANS]\": os.linesep.join(rbds_smwc1),\n",
    "    \"[GROUP2_SMWC1_SCANS]\": os.linesep.join(controls_smwc1),\n",
    "    \"[ICVS]\": os.linesep.join(\n",
    "        [str(icvs[str(x)]) for x in groups_patnos if x in available_subjects]\n",
    "    ),  # don't mess up ordering\n",
    "    \"[AGES]\": os.linesep.join(\n",
    "        [\n",
    "            str(all_subjects[all_subjects[\"PATNO\"] == x][\"AGE_AT_VISIT\"].values[0])\n",
    "            for x in groups_patnos\n",
    "            if x in available_subjects\n",
    "        ]\n",
    "    ),\n",
    "}\n",
    "\n",
    "# Stats batch\n",
    "stats_batch_job = op.join(\"code\", \"templates\", \"stats_job.m\")\n",
    "stats_name = preprocessing_name.replace(\"pre_processing\", \"stats\")\n",
    "\n",
    "write_batch_files(stats_batch_job, replace_keys, tempfile_name=stats_name)\n",
    "output = run_batch_file(stats_name)"
   ]
  },
  {
   "cell_type": "markdown",
   "metadata": {},
   "source": [
    "## Results upload"
   ]
  },
  {
   "cell_type": "code",
   "execution_count": 25,
   "metadata": {},
   "outputs": [],
   "source": [
    "# d = dat.Dataset(datalad_path)\n",
    "# dat.push(dataset=d)"
   ]
  }
 ],
 "metadata": {
  "celltoolbar": "Slideshow",
  "kernelspec": {
   "display_name": "Python 3 (ipykernel)",
   "language": "python",
   "name": "python3"
  },
  "language_info": {
   "codemirror_mode": {
    "name": "ipython",
    "version": 3
   },
   "file_extension": ".py",
   "mimetype": "text/x-python",
   "name": "python",
   "nbconvert_exporter": "python",
   "pygments_lexer": "ipython3",
   "version": "3.10.5"
  },
  "toc": {
   "base_numbering": 1,
   "nav_menu": {},
   "number_sections": true,
   "sideBar": true,
   "skip_h1_title": false,
   "title_cell": "Table of Contents",
   "title_sidebar": "Contents",
   "toc_cell": false,
   "toc_position": {},
   "toc_section_display": true,
   "toc_window_display": false
  }
 },
 "nbformat": 4,
 "nbformat_minor": 4
}
