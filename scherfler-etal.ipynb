{
 "cells": [
  {
   "cell_type": "markdown",
   "metadata": {
    "slideshow": {
     "slide_type": "slide"
    }
   },
   "source": [
    "# Initial study\n",
    "\n",
    "This notebook identifies PPMI subjects to reproduce the following paper:\n",
    "\n",
    "\n",
    "<div class=\"alert alert-block alert-success\">\n",
    "Scherfler, Christoph, et al. <a href=https://onlinelibrary.wiley.com/doi/pdf/10.1002/ana.22245>White and gray matter abnormalities in idiopathic rapid eye movement sleep behavior disorder: a diffusion‐tensor imaging and voxel‐based morphometry study.</a> Annals of neurology 69.2 (2011): 400-407. \n",
    "</div>"
   ]
  },
  {
   "cell_type": "markdown",
   "metadata": {
    "slideshow": {
     "slide_type": "fragment"
    }
   },
   "source": [
    "This study recruited 34 patients with iRBD and confirmed iRBD diagnosis with polysomnography (PSG). Patients had no PD or dementia at time of MRI. The demographics parameters were as follows (table extracted from the paper):\n",
    "\n",
    "<img src=\"demographics.png\"/>"
   ]
  },
  {
   "cell_type": "markdown",
   "metadata": {
    "slideshow": {
     "slide_type": "slide"
    }
   },
   "source": [
    "# PPMI metadata download"
   ]
  },
  {
   "cell_type": "markdown",
   "metadata": {
    "slideshow": {
     "slide_type": "fragment"
    }
   },
   "source": [
    "Let's download the required metadata files from PPMI:"
   ]
  },
  {
   "cell_type": "code",
   "execution_count": 1,
   "metadata": {
    "slideshow": {
     "slide_type": "fragment"
    }
   },
   "outputs": [],
   "source": [
    "import os\n",
    "import ppmi_metadata\n",
    "\n",
    "data_dir = 'data'\n",
    "required_files = ['Age_at_visit.csv',  'Demographics.csv',  'Magnetic_Resonance_Imaging__MRI_.csv', \n",
    "                   'REM_Sleep_Behavior_Disorder_Questionnaire.csv']\n",
    "\n",
    "missing_files = [x for x in required_files if not os.path.exists(os.path.join(data_dir, x))]\n",
    "\n",
    "if len(missing_files) > 0:\n",
    "    ppmi = ppmi_metadata.PPMIMetaDataDownloader('<ppmi_email>', '<ppmi_pass>')\n",
    "    ppmi.download_metadata(missing_files, destination_dir=data_dir, headless=False, timeout=600)\n"
   ]
  },
  {
   "cell_type": "markdown",
   "metadata": {
    "slideshow": {
     "slide_type": "slide"
    }
   },
   "source": [
    "# PPMI subjects\n",
    "\n",
    "PPMI subjects underwent the REM Sleep Behavior Disorder Screening Questionnaire [[1]](https://movementdisorders.onlinelibrary.wiley.com/doi/10.1002/mds.21740). While this tool was developed to assess RBD, there has been concerns about its use for de novo Parkinson's Disease patients [[2]](https://movementdisorders.onlinelibrary.wiley.com/doi/10.1002/mdc3.12591). We will use a cut-off score of 5 to identify RBD subjects among non-PD subjects. The cutoff score of 6 suggested in [[3]](https://www.sciencedirect.com/science/article/pii/S138994571100164X) applies to PD patients."
   ]
  },
  {
   "cell_type": "markdown",
   "metadata": {
    "slideshow": {
     "slide_type": "fragment"
    }
   },
   "source": [
    "## Get RBD subjects from PPMI"
   ]
  },
  {
   "cell_type": "code",
   "execution_count": 2,
   "metadata": {
    "slideshow": {
     "slide_type": "fragment"
    }
   },
   "outputs": [],
   "source": [
    "# Load PPMI RSBDQ data\n",
    "import pandas as pd\n",
    "import os.path as op\n",
    "\n",
    "df = pd.read_csv(op.join('data', 'REM_Sleep_Behavior_Disorder_Questionnaire.csv'))"
   ]
  },
  {
   "cell_type": "code",
   "execution_count": 3,
   "metadata": {
    "slideshow": {
     "slide_type": "slide"
    }
   },
   "outputs": [],
   "source": [
    "# Compute and add RBDSQ score\n",
    "df['RBDSQ'] = (df['DRMVIVID'] +  # Q1\n",
    "               df['DRMAGRAC'] +  # Q2\n",
    "               df['DRMNOCTB'] +  # Q3\n",
    "               df['SLPLMBMV'] +  # Q4\n",
    "               df['SLPINJUR'] +  # Q5\n",
    "               df['DRMVERBL'] + df['DRMFIGHT'] + df['DRMUMV'] + df['DRMOBJFL'] + # Q6\n",
    "               df['MVAWAKEN'] +  # Q7\n",
    "               df['DRMREMEM'] +  # Q8\n",
    "               df['SLPDSTRB'] +  # Q9\n",
    "               df[['BRNINFM', 'DEPRS', 'EPILEPSY', 'HETRA',  # Q10\n",
    "                   'NARCLPSY', 'PARKISM', 'RLS', 'STROKE']].max(axis=1))\n",
    "\n",
    "df['Q6'] = df['DRMVERBL'] + df['DRMFIGHT'] + df['DRMUMV'] + df['DRMOBJFL']\n",
    "\n",
    "# Note: CNSOTHCM isn't present in data"
   ]
  },
  {
   "cell_type": "code",
   "execution_count": 4,
   "metadata": {
    "slideshow": {
     "slide_type": "fragment"
    }
   },
   "outputs": [],
   "source": [
    "# Check that max RBDSQ score is <= 13\n",
    "assert(df['RBDSQ'].max() <= 13)"
   ]
  },
  {
   "cell_type": "code",
   "execution_count": 5,
   "metadata": {
    "slideshow": {
     "slide_type": "fragment"
    }
   },
   "outputs": [],
   "source": [
    "# Filter RBD subjects with no Parkinsonism\n",
    "# Keep only evaluations done at BL\n",
    "# Non-PD subjects have RBD if RBDSQ >= 5. For PD subjects, the cutoff score should be 6\n",
    "rbd_nopark = df[(df['RBDSQ'] >= 5) & (df['PARKISM'] == 0) & (df['EVENT_ID'] == 'BL')]"
   ]
  },
  {
   "cell_type": "markdown",
   "metadata": {
    "slideshow": {
     "slide_type": "slide"
    }
   },
   "source": [
    "## Filter subjects with no MRI at BL"
   ]
  },
  {
   "cell_type": "code",
   "execution_count": 6,
   "metadata": {
    "scrolled": false,
    "slideshow": {
     "slide_type": "fragment"
    }
   },
   "outputs": [],
   "source": [
    "mri = pd.read_csv(op.join('data', 'Magnetic_Resonance_Imaging__MRI_.csv'))\n",
    "mri = mri[(mri['EVENT_ID'] == 'BL') & (mri['MRICMPLT'] ==1)]"
   ]
  },
  {
   "cell_type": "code",
   "execution_count": 7,
   "metadata": {
    "scrolled": false,
    "slideshow": {
     "slide_type": "fragment"
    }
   },
   "outputs": [],
   "source": [
    "rbd_nopark_mri = rbd_nopark[rbd_nopark['PATNO'].isin(mri['PATNO'])]"
   ]
  },
  {
   "cell_type": "markdown",
   "metadata": {
    "slideshow": {
     "slide_type": "slide"
    }
   },
   "source": [
    "## Add age and sex"
   ]
  },
  {
   "cell_type": "code",
   "execution_count": 8,
   "metadata": {
    "slideshow": {
     "slide_type": "fragment"
    }
   },
   "outputs": [],
   "source": [
    "dem = pd.read_csv(op.join('data', 'Demographics.csv'))\n",
    "age = pd.read_csv(op.join('data', 'Age_at_visit.csv'))\n",
    "age = age[age['EVENT_ID']=='BL']\n",
    "dem = dem[['PATNO', 'SEX']]"
   ]
  },
  {
   "cell_type": "code",
   "execution_count": 9,
   "metadata": {
    "slideshow": {
     "slide_type": "fragment"
    }
   },
   "outputs": [],
   "source": [
    "rbd_age_sex = pd.merge(rbd_nopark_mri, dem, on='PATNO').merge(age, on='PATNO')\n",
    "rbd_age_sex = rbd_age_sex[['PATNO', 'RBDSQ', 'SEX', 'AGE_AT_VISIT']]\n",
    "rbd_age_sex['RBD_group'] = 1"
   ]
  },
  {
   "cell_type": "markdown",
   "metadata": {
    "slideshow": {
     "slide_type": "slide"
    }
   },
   "source": [
    "## Controls\n"
   ]
  },
  {
   "cell_type": "code",
   "execution_count": 10,
   "metadata": {
    "slideshow": {
     "slide_type": "fragment"
    }
   },
   "outputs": [],
   "source": [
    "# Keep subjects with an RBDSQ <=5 and 0 at Q6.1-6.4. See email thread with Madeleine Sharp and Ron Postuma \n",
    "no_rbd_nopark = df[(df['RBDSQ'] < 5) & (df['Q6'] == 0) & (df['PARKISM'] == 0) & (df['EVENT_ID'] == 'BL')]"
   ]
  },
  {
   "cell_type": "code",
   "execution_count": 11,
   "metadata": {
    "scrolled": true,
    "slideshow": {
     "slide_type": "fragment"
    }
   },
   "outputs": [],
   "source": [
    "no_rbd_nopark_mri = no_rbd_nopark[no_rbd_nopark['PATNO'].isin(mri['PATNO'])]\n",
    "norbd_age_sex = pd.merge(no_rbd_nopark_mri, dem, on='PATNO').merge(age, on='PATNO')\n",
    "norbd_age_sex = norbd_age_sex[['PATNO', 'RBDSQ', 'SEX', 'AGE_AT_VISIT']]\n",
    "norbd_age_sex['RBD_group'] = 0"
   ]
  },
  {
   "cell_type": "markdown",
   "metadata": {
    "slideshow": {
     "slide_type": "slide"
    }
   },
   "source": [
    "## Cohort matching"
   ]
  },
  {
   "cell_type": "markdown",
   "metadata": {
    "slideshow": {
     "slide_type": "fragment"
    }
   },
   "source": [
    "We implemented the following function to match RBD and non-RBD groups for age and sex."
   ]
  },
  {
   "cell_type": "code",
   "execution_count": 12,
   "metadata": {
    "slideshow": {
     "slide_type": "fragment"
    }
   },
   "outputs": [],
   "source": [
    "def nn_match(sample1, df_2, n2, cat_variables, num_variables, random_state=0):\n",
    "    '''\n",
    "    Find len(sample1) rows in df_2 such that variables are matched with sample1.\n",
    "    \n",
    "    sample1: samples in group1\n",
    "    df_2: dataframe with subjects in group 2\n",
    "    n2: desired sample size for group 2\n",
    "    cat_variables: categorical variables to match\n",
    "    num_variables: numerical variables to match\n",
    "    '''\n",
    "\n",
    "    def nn(x, df, variables):\n",
    "        '''\n",
    "        Find index of nearest neighbor of x in df\n",
    "        \n",
    "        * x: a dataframe row\n",
    "        * df: a dataframe\n",
    "        * variables: variables to match. Should be normalized.\n",
    "        '''\n",
    "        df['dist'] = sum((df[var]-x[var])**2 for var in variables)\n",
    "        df.sort_values('dist', inplace=True)\n",
    "        return df.head(1).index[0]  ## there's probably a better way to do it but it works\n",
    "\n",
    "    # Check assumptions\n",
    "    n1 = len(sample1)\n",
    "    assert(n1 <= n2)\n",
    "    for v in num_variables + cat_variables:\n",
    "        assert(v in sample1 and v in df_2)\n",
    "    \n",
    "    # Copy original dataframe to leave them untouched\n",
    "    df_2_ = df_2.copy()\n",
    "    sample1_ = sample1.copy()\n",
    "    \n",
    "    # Normalize variables to match to compute meaningful distances\n",
    "    for v in num_variables:\n",
    "        m = df_2_[v].mean()\n",
    "        s = df_2_[v].std()\n",
    "        for df in (df_2_, sample1_):\n",
    "            df[v] = (df[v] - m)/s\n",
    "        \n",
    "    # For each subject in sampled group 1, \n",
    "    # find one or more subject in sampled group 2, without replacement.\n",
    "    indices = []\n",
    "    for i in range(n2):\n",
    "        j = i % n1  # loop over sample1\n",
    "        df_2_cat = df_2_.copy()\n",
    "        for c in cat_variables:\n",
    "            df_2_cat = df_2_cat[df_2_cat[c] == sample1_.iloc[j][c]]\n",
    "        assert(len(df_2_cat) > 0)\n",
    "        index = nn(sample1_.iloc[j], df_2_cat, num_variables)\n",
    "        df_2_.drop(index=index, inplace=True)\n",
    "        indices.append(index)\n",
    "    \n",
    "    sample2 = df_2[df_2.index.isin(indices)]\n",
    "    \n",
    "    return sample2\n",
    "    \n"
   ]
  },
  {
   "cell_type": "code",
   "execution_count": 13,
   "metadata": {
    "slideshow": {
     "slide_type": "slide"
    }
   },
   "outputs": [],
   "source": [
    "# Randomly select 4 control women and 10 control men, to reproduce F/M balance in original paper\n",
    "controls = pd.concat([norbd_age_sex[norbd_age_sex['SEX']==0].sample(n=4),\n",
    "                      norbd_age_sex[norbd_age_sex['SEX']==1].sample(n=10)])\n",
    "\n",
    "# Match with RBD subjects\n",
    "rbds = nn_match(controls, rbd_age_sex, 26, ['SEX'], ['AGE_AT_VISIT'], random_state=1)"
   ]
  },
  {
   "cell_type": "code",
   "execution_count": 14,
   "metadata": {
    "slideshow": {
     "slide_type": "fragment"
    }
   },
   "outputs": [
    {
     "name": "stdout",
     "output_type": "stream",
     "text": [
      "\t\t\t| iRBD Patients\t| Controls\n",
      "Subjects, No. \t\t| 26 \t\t| 14\n",
      "F/M, No. \t\t| 8/18 \t\t| 4/10\n",
      "Age, mean +/- SD \t| 60.7 +/- 13.1 \t| 60.4 +/- 13.2\n"
     ]
    }
   ],
   "source": [
    "import os\n",
    "print(\"\\t\\t\\t| iRBD Patients\\t| Controls\" + os.linesep +\n",
    "      f\"Subjects, No. \\t\\t| {len(rbds)} \\t\\t| {len(controls)}\" + os.linesep + \n",
    "      f\"F/M, No. \\t\\t| {len(rbds[rbds['SEX']==0])}/{len(rbds[rbds['SEX']==1])} \\t\\t| {len(controls[controls['SEX']==0])}/{len(controls[controls['SEX']==1])}\" + os.linesep +\n",
    "      f\"Age, mean +/- SD \\t| {round(rbds['AGE_AT_VISIT'].mean(),1)} +/- {round(rbds['AGE_AT_VISIT'].std(),1)} \\t| {round(controls['AGE_AT_VISIT'].mean(),1)} +/- {round(controls['AGE_AT_VISIT'].std(),1)}\"\n",
    ")"
   ]
  },
  {
   "cell_type": "markdown",
   "metadata": {
    "slideshow": {
     "slide_type": "fragment"
    }
   },
   "source": [
    "The demographics parameters of the selected PPMI subjects seem comparable to the ones in the initial study. Gender balance looks better in our cohort."
   ]
  }
 ],
 "metadata": {
  "celltoolbar": "Slideshow",
  "kernelspec": {
   "display_name": "Python 3.8.9 64-bit",
   "language": "python",
   "name": "python38964bitc399adc8f8ec440ba2e333c1f6098275"
  },
  "language_info": {
   "codemirror_mode": {
    "name": "ipython",
    "version": 3
   },
   "file_extension": ".py",
   "mimetype": "text/x-python",
   "name": "python",
   "nbconvert_exporter": "python",
   "pygments_lexer": "ipython3",
   "version": "3.8.9"
  },
  "toc": {
   "base_numbering": 1,
   "nav_menu": {},
   "number_sections": true,
   "sideBar": true,
   "skip_h1_title": false,
   "title_cell": "Table of Contents",
   "title_sidebar": "Contents",
   "toc_cell": false,
   "toc_position": {},
   "toc_section_display": true,
   "toc_window_display": false
  }
 },
 "nbformat": 4,
 "nbformat_minor": 4
}
